{
 "cells": [
  {
   "cell_type": "markdown",
   "metadata": {},
   "source": [
    "# Ensamble\n",
    "Autor: **Emiliano Carrillo Moncayo**  \n",
    "Materia: **Minería de Datos**  \n"
   ]
  },
  {
   "cell_type": "markdown",
   "metadata": {},
   "source": [
    "## 1. Preprocesar archivo de texto"
   ]
  },
  {
   "cell_type": "code",
   "execution_count": 3,
   "metadata": {
    "scrolled": true
   },
   "outputs": [
    {
     "data": {
      "text/html": [
       "<div>\n",
       "<style scoped>\n",
       "    .dataframe tbody tr th:only-of-type {\n",
       "        vertical-align: middle;\n",
       "    }\n",
       "\n",
       "    .dataframe tbody tr th {\n",
       "        vertical-align: top;\n",
       "    }\n",
       "\n",
       "    .dataframe thead th {\n",
       "        text-align: right;\n",
       "    }\n",
       "</style>\n",
       "<table border=\"1\" class=\"dataframe\">\n",
       "  <thead>\n",
       "    <tr style=\"text-align: right;\">\n",
       "      <th></th>\n",
       "      <th>atrib_1</th>\n",
       "      <th>atrib_2</th>\n",
       "      <th>atrib_3</th>\n",
       "      <th>atrib_4</th>\n",
       "      <th>atrib_5</th>\n",
       "      <th>atrib_6</th>\n",
       "      <th>atrib_7</th>\n",
       "      <th>atrib_8</th>\n",
       "      <th>atrib_9</th>\n",
       "      <th>atrib_10</th>\n",
       "      <th>...</th>\n",
       "      <th>atrib_377</th>\n",
       "      <th>atrib_378</th>\n",
       "      <th>atrib_379</th>\n",
       "      <th>atrib_380</th>\n",
       "      <th>atrib_381</th>\n",
       "      <th>atrib_382</th>\n",
       "      <th>atrib_383</th>\n",
       "      <th>atrib_384</th>\n",
       "      <th>atrib_385</th>\n",
       "      <th>clase</th>\n",
       "    </tr>\n",
       "  </thead>\n",
       "  <tbody>\n",
       "    <tr>\n",
       "      <th>0</th>\n",
       "      <td>0.0</td>\n",
       "      <td>0.0</td>\n",
       "      <td>0.0</td>\n",
       "      <td>0.0</td>\n",
       "      <td>0.0</td>\n",
       "      <td>0.0</td>\n",
       "      <td>-0.25</td>\n",
       "      <td>-0.25</td>\n",
       "      <td>-0.25</td>\n",
       "      <td>-0.25</td>\n",
       "      <td>...</td>\n",
       "      <td>0.980381</td>\n",
       "      <td>0.0</td>\n",
       "      <td>0.0</td>\n",
       "      <td>0.0</td>\n",
       "      <td>0.0</td>\n",
       "      <td>0.0</td>\n",
       "      <td>-0.25</td>\n",
       "      <td>-0.25</td>\n",
       "      <td>21.803851</td>\n",
       "      <td>0</td>\n",
       "    </tr>\n",
       "    <tr>\n",
       "      <th>1</th>\n",
       "      <td>0.0</td>\n",
       "      <td>0.0</td>\n",
       "      <td>0.0</td>\n",
       "      <td>0.0</td>\n",
       "      <td>0.0</td>\n",
       "      <td>0.0</td>\n",
       "      <td>-0.25</td>\n",
       "      <td>-0.25</td>\n",
       "      <td>-0.25</td>\n",
       "      <td>-0.25</td>\n",
       "      <td>...</td>\n",
       "      <td>0.977008</td>\n",
       "      <td>0.0</td>\n",
       "      <td>0.0</td>\n",
       "      <td>0.0</td>\n",
       "      <td>0.0</td>\n",
       "      <td>0.0</td>\n",
       "      <td>-0.25</td>\n",
       "      <td>-0.25</td>\n",
       "      <td>21.745726</td>\n",
       "      <td>0</td>\n",
       "    </tr>\n",
       "    <tr>\n",
       "      <th>2</th>\n",
       "      <td>0.0</td>\n",
       "      <td>0.0</td>\n",
       "      <td>0.0</td>\n",
       "      <td>0.0</td>\n",
       "      <td>0.0</td>\n",
       "      <td>0.0</td>\n",
       "      <td>-0.25</td>\n",
       "      <td>-0.25</td>\n",
       "      <td>-0.25</td>\n",
       "      <td>-0.25</td>\n",
       "      <td>...</td>\n",
       "      <td>0.977008</td>\n",
       "      <td>0.0</td>\n",
       "      <td>0.0</td>\n",
       "      <td>0.0</td>\n",
       "      <td>0.0</td>\n",
       "      <td>0.0</td>\n",
       "      <td>-0.25</td>\n",
       "      <td>-0.25</td>\n",
       "      <td>21.687600</td>\n",
       "      <td>0</td>\n",
       "    </tr>\n",
       "    <tr>\n",
       "      <th>3</th>\n",
       "      <td>0.0</td>\n",
       "      <td>0.0</td>\n",
       "      <td>0.0</td>\n",
       "      <td>0.0</td>\n",
       "      <td>0.0</td>\n",
       "      <td>0.0</td>\n",
       "      <td>-0.25</td>\n",
       "      <td>-0.25</td>\n",
       "      <td>-0.25</td>\n",
       "      <td>-0.25</td>\n",
       "      <td>...</td>\n",
       "      <td>0.977008</td>\n",
       "      <td>0.0</td>\n",
       "      <td>0.0</td>\n",
       "      <td>0.0</td>\n",
       "      <td>0.0</td>\n",
       "      <td>0.0</td>\n",
       "      <td>-0.25</td>\n",
       "      <td>-0.25</td>\n",
       "      <td>21.629474</td>\n",
       "      <td>0</td>\n",
       "    </tr>\n",
       "    <tr>\n",
       "      <th>4</th>\n",
       "      <td>0.0</td>\n",
       "      <td>0.0</td>\n",
       "      <td>0.0</td>\n",
       "      <td>0.0</td>\n",
       "      <td>0.0</td>\n",
       "      <td>0.0</td>\n",
       "      <td>-0.25</td>\n",
       "      <td>-0.25</td>\n",
       "      <td>-0.25</td>\n",
       "      <td>-0.25</td>\n",
       "      <td>...</td>\n",
       "      <td>0.976833</td>\n",
       "      <td>0.0</td>\n",
       "      <td>0.0</td>\n",
       "      <td>0.0</td>\n",
       "      <td>0.0</td>\n",
       "      <td>0.0</td>\n",
       "      <td>-0.25</td>\n",
       "      <td>-0.25</td>\n",
       "      <td>21.571348</td>\n",
       "      <td>0</td>\n",
       "    </tr>\n",
       "  </tbody>\n",
       "</table>\n",
       "<p>5 rows × 386 columns</p>\n",
       "</div>"
      ],
      "text/plain": [
       "   atrib_1  atrib_2  atrib_3  atrib_4  atrib_5  atrib_6  atrib_7  atrib_8  \\\n",
       "0      0.0      0.0      0.0      0.0      0.0      0.0    -0.25    -0.25   \n",
       "1      0.0      0.0      0.0      0.0      0.0      0.0    -0.25    -0.25   \n",
       "2      0.0      0.0      0.0      0.0      0.0      0.0    -0.25    -0.25   \n",
       "3      0.0      0.0      0.0      0.0      0.0      0.0    -0.25    -0.25   \n",
       "4      0.0      0.0      0.0      0.0      0.0      0.0    -0.25    -0.25   \n",
       "\n",
       "   atrib_9  atrib_10  ...  atrib_377  atrib_378  atrib_379  atrib_380  \\\n",
       "0    -0.25     -0.25  ...   0.980381        0.0        0.0        0.0   \n",
       "1    -0.25     -0.25  ...   0.977008        0.0        0.0        0.0   \n",
       "2    -0.25     -0.25  ...   0.977008        0.0        0.0        0.0   \n",
       "3    -0.25     -0.25  ...   0.977008        0.0        0.0        0.0   \n",
       "4    -0.25     -0.25  ...   0.976833        0.0        0.0        0.0   \n",
       "\n",
       "   atrib_381  atrib_382  atrib_383  atrib_384  atrib_385  clase  \n",
       "0        0.0        0.0      -0.25      -0.25  21.803851      0  \n",
       "1        0.0        0.0      -0.25      -0.25  21.745726      0  \n",
       "2        0.0        0.0      -0.25      -0.25  21.687600      0  \n",
       "3        0.0        0.0      -0.25      -0.25  21.629474      0  \n",
       "4        0.0        0.0      -0.25      -0.25  21.571348      0  \n",
       "\n",
       "[5 rows x 386 columns]"
      ]
     },
     "execution_count": 3,
     "metadata": {},
     "output_type": "execute_result"
    }
   ],
   "source": [
    "import numpy as np\n",
    "import pandas as pd\n",
    "import matplotlib.pyplot as plt\n",
    "from sklearn.decomposition import PCA\n",
    "from sklearn.preprocessing import StandardScaler\n",
    "import ipywidgets as widgets\n",
    "%matplotlib inline\n",
    "\n",
    "nombre_archivo = \"data/data2\"\n",
    "## **************************************\n",
    "\n",
    "try:\n",
    "    with open( nombre_archivo + \".txt\", \"r\") as archivo:\n",
    "        nElem = int(archivo.readline())\n",
    "        nAtrib = int(archivo.readline())\n",
    "        nClases = int(archivo.readline())\n",
    "        \n",
    "        atributos = []\n",
    "        for i in range(0, nAtrib):\n",
    "            atributos.append(\"atrib_\" + str(i+1))\n",
    "        \n",
    "        atributos.append(\"clase\")\n",
    "        data = pd.read_csv(archivo, delimiter=',', header=None)\n",
    "        data.columns = atributos\n",
    "    \n",
    "except FileNotFoundError:\n",
    "    print( \"ERROR: El archivo \" + nombre_archivo + \" no fue encontrado\");\n",
    "finally:\n",
    "    archivo.close();\n",
    "\n",
    "dataset = data;\n",
    "\n",
    "## **************************************\n",
    "x_fin = dataset.drop('clase', 1)\n",
    "y_fin = dataset['clase']\n",
    "nComponentes = \"Sin Componentes\"\n",
    "\n",
    "dataset.head()"
   ]
  },
  {
   "cell_type": "markdown",
   "metadata": {},
   "source": [
    "## 2. Preprocesar datos (Estandarizar)"
   ]
  },
  {
   "cell_type": "code",
   "execution_count": 4,
   "metadata": {
    "scrolled": true
   },
   "outputs": [
    {
     "data": {
      "text/html": [
       "<div>\n",
       "<style scoped>\n",
       "    .dataframe tbody tr th:only-of-type {\n",
       "        vertical-align: middle;\n",
       "    }\n",
       "\n",
       "    .dataframe tbody tr th {\n",
       "        vertical-align: top;\n",
       "    }\n",
       "\n",
       "    .dataframe thead th {\n",
       "        text-align: right;\n",
       "    }\n",
       "</style>\n",
       "<table border=\"1\" class=\"dataframe\">\n",
       "  <thead>\n",
       "    <tr style=\"text-align: right;\">\n",
       "      <th></th>\n",
       "      <th>atrib_1</th>\n",
       "      <th>atrib_2</th>\n",
       "      <th>atrib_3</th>\n",
       "      <th>atrib_4</th>\n",
       "      <th>atrib_5</th>\n",
       "      <th>atrib_6</th>\n",
       "      <th>atrib_7</th>\n",
       "      <th>atrib_8</th>\n",
       "      <th>atrib_9</th>\n",
       "      <th>atrib_10</th>\n",
       "      <th>...</th>\n",
       "      <th>atrib_376</th>\n",
       "      <th>atrib_377</th>\n",
       "      <th>atrib_378</th>\n",
       "      <th>atrib_379</th>\n",
       "      <th>atrib_380</th>\n",
       "      <th>atrib_381</th>\n",
       "      <th>atrib_382</th>\n",
       "      <th>atrib_383</th>\n",
       "      <th>atrib_384</th>\n",
       "      <th>atrib_385</th>\n",
       "    </tr>\n",
       "  </thead>\n",
       "  <tbody>\n",
       "    <tr>\n",
       "      <th>0</th>\n",
       "      <td>-0.458699</td>\n",
       "      <td>-0.307113</td>\n",
       "      <td>-0.243608</td>\n",
       "      <td>-0.307003</td>\n",
       "      <td>-0.518008</td>\n",
       "      <td>-0.675602</td>\n",
       "      <td>-1.003106</td>\n",
       "      <td>-0.760053</td>\n",
       "      <td>-0.659573</td>\n",
       "      <td>-0.1849</td>\n",
       "      <td>...</td>\n",
       "      <td>-1.346831</td>\n",
       "      <td>2.398449</td>\n",
       "      <td>-0.608699</td>\n",
       "      <td>-0.69581</td>\n",
       "      <td>-0.707798</td>\n",
       "      <td>-0.499451</td>\n",
       "      <td>-0.009384</td>\n",
       "      <td>-1.20185</td>\n",
       "      <td>-0.641154</td>\n",
       "      <td>-0.332086</td>\n",
       "    </tr>\n",
       "    <tr>\n",
       "      <th>1</th>\n",
       "      <td>-0.458699</td>\n",
       "      <td>-0.307113</td>\n",
       "      <td>-0.243608</td>\n",
       "      <td>-0.307003</td>\n",
       "      <td>-0.518008</td>\n",
       "      <td>-0.675602</td>\n",
       "      <td>-1.003106</td>\n",
       "      <td>-0.760053</td>\n",
       "      <td>-0.659573</td>\n",
       "      <td>-0.1849</td>\n",
       "      <td>...</td>\n",
       "      <td>-1.346831</td>\n",
       "      <td>2.388748</td>\n",
       "      <td>-0.608699</td>\n",
       "      <td>-0.69581</td>\n",
       "      <td>-0.707798</td>\n",
       "      <td>-0.499451</td>\n",
       "      <td>-0.009384</td>\n",
       "      <td>-1.20185</td>\n",
       "      <td>-0.641154</td>\n",
       "      <td>-0.339097</td>\n",
       "    </tr>\n",
       "    <tr>\n",
       "      <th>2</th>\n",
       "      <td>-0.458699</td>\n",
       "      <td>-0.307113</td>\n",
       "      <td>-0.243608</td>\n",
       "      <td>-0.307003</td>\n",
       "      <td>-0.518008</td>\n",
       "      <td>-0.675602</td>\n",
       "      <td>-1.003106</td>\n",
       "      <td>-0.760053</td>\n",
       "      <td>-0.659573</td>\n",
       "      <td>-0.1849</td>\n",
       "      <td>...</td>\n",
       "      <td>-1.346831</td>\n",
       "      <td>2.388748</td>\n",
       "      <td>-0.608699</td>\n",
       "      <td>-0.69581</td>\n",
       "      <td>-0.707798</td>\n",
       "      <td>-0.499451</td>\n",
       "      <td>-0.009384</td>\n",
       "      <td>-1.20185</td>\n",
       "      <td>-0.641154</td>\n",
       "      <td>-0.346107</td>\n",
       "    </tr>\n",
       "    <tr>\n",
       "      <th>3</th>\n",
       "      <td>-0.458699</td>\n",
       "      <td>-0.307113</td>\n",
       "      <td>-0.243608</td>\n",
       "      <td>-0.307003</td>\n",
       "      <td>-0.518008</td>\n",
       "      <td>-0.675602</td>\n",
       "      <td>-1.003106</td>\n",
       "      <td>-0.760053</td>\n",
       "      <td>-0.659573</td>\n",
       "      <td>-0.1849</td>\n",
       "      <td>...</td>\n",
       "      <td>-1.346831</td>\n",
       "      <td>2.388748</td>\n",
       "      <td>-0.608699</td>\n",
       "      <td>-0.69581</td>\n",
       "      <td>-0.707798</td>\n",
       "      <td>-0.499451</td>\n",
       "      <td>-0.009384</td>\n",
       "      <td>-1.20185</td>\n",
       "      <td>-0.641154</td>\n",
       "      <td>-0.353118</td>\n",
       "    </tr>\n",
       "    <tr>\n",
       "      <th>4</th>\n",
       "      <td>-0.458699</td>\n",
       "      <td>-0.307113</td>\n",
       "      <td>-0.243608</td>\n",
       "      <td>-0.307003</td>\n",
       "      <td>-0.518008</td>\n",
       "      <td>-0.675602</td>\n",
       "      <td>-1.003106</td>\n",
       "      <td>-0.760053</td>\n",
       "      <td>-0.659573</td>\n",
       "      <td>-0.1849</td>\n",
       "      <td>...</td>\n",
       "      <td>-1.346831</td>\n",
       "      <td>2.388245</td>\n",
       "      <td>-0.608699</td>\n",
       "      <td>-0.69581</td>\n",
       "      <td>-0.707798</td>\n",
       "      <td>-0.499451</td>\n",
       "      <td>-0.009384</td>\n",
       "      <td>-1.20185</td>\n",
       "      <td>-0.641154</td>\n",
       "      <td>-0.360128</td>\n",
       "    </tr>\n",
       "  </tbody>\n",
       "</table>\n",
       "<p>5 rows × 385 columns</p>\n",
       "</div>"
      ],
      "text/plain": [
       "    atrib_1   atrib_2   atrib_3   atrib_4   atrib_5   atrib_6   atrib_7  \\\n",
       "0 -0.458699 -0.307113 -0.243608 -0.307003 -0.518008 -0.675602 -1.003106   \n",
       "1 -0.458699 -0.307113 -0.243608 -0.307003 -0.518008 -0.675602 -1.003106   \n",
       "2 -0.458699 -0.307113 -0.243608 -0.307003 -0.518008 -0.675602 -1.003106   \n",
       "3 -0.458699 -0.307113 -0.243608 -0.307003 -0.518008 -0.675602 -1.003106   \n",
       "4 -0.458699 -0.307113 -0.243608 -0.307003 -0.518008 -0.675602 -1.003106   \n",
       "\n",
       "    atrib_8   atrib_9  atrib_10  ...  atrib_376  atrib_377  atrib_378  \\\n",
       "0 -0.760053 -0.659573   -0.1849  ...  -1.346831   2.398449  -0.608699   \n",
       "1 -0.760053 -0.659573   -0.1849  ...  -1.346831   2.388748  -0.608699   \n",
       "2 -0.760053 -0.659573   -0.1849  ...  -1.346831   2.388748  -0.608699   \n",
       "3 -0.760053 -0.659573   -0.1849  ...  -1.346831   2.388748  -0.608699   \n",
       "4 -0.760053 -0.659573   -0.1849  ...  -1.346831   2.388245  -0.608699   \n",
       "\n",
       "   atrib_379  atrib_380  atrib_381  atrib_382  atrib_383  atrib_384  atrib_385  \n",
       "0   -0.69581  -0.707798  -0.499451  -0.009384   -1.20185  -0.641154  -0.332086  \n",
       "1   -0.69581  -0.707798  -0.499451  -0.009384   -1.20185  -0.641154  -0.339097  \n",
       "2   -0.69581  -0.707798  -0.499451  -0.009384   -1.20185  -0.641154  -0.346107  \n",
       "3   -0.69581  -0.707798  -0.499451  -0.009384   -1.20185  -0.641154  -0.353118  \n",
       "4   -0.69581  -0.707798  -0.499451  -0.009384   -1.20185  -0.641154  -0.360128  \n",
       "\n",
       "[5 rows x 385 columns]"
      ]
     },
     "execution_count": 4,
     "metadata": {},
     "output_type": "execute_result"
    }
   ],
   "source": [
    "x = dataset.drop('clase', 1)\n",
    "y = dataset['clase']\n",
    "\n",
    "x_estandarizada = StandardScaler().fit_transform(x)\n",
    "\n",
    "try:\n",
    "    atributos.remove('clase')\n",
    "except:\n",
    "    print('')\n",
    "    \n",
    "x_fin = pd.DataFrame(data = x_estandarizada, columns = atributos)\n",
    "x_fin.head()"
   ]
  },
  {
   "cell_type": "markdown",
   "metadata": {},
   "source": [
    "## 3. PCA"
   ]
  },
  {
   "cell_type": "code",
   "execution_count": 7,
   "metadata": {
    "scrolled": true
   },
   "outputs": [
    {
     "data": {
      "application/vnd.jupyter.widget-view+json": {
       "model_id": "7ab49e9a1e81451b8abcfb48afa4fa67",
       "version_major": 2,
       "version_minor": 0
      },
      "text/plain": [
       "BoundedIntText(value=1, description='n_comps:', max=385, min=1)"
      ]
     },
     "metadata": {},
     "output_type": "display_data"
    }
   ],
   "source": [
    "nComponentesWidget = widgets.BoundedIntText(\n",
    "    min=1,\n",
    "    max=nAtrib,\n",
    "    step=1,\n",
    "    description='n_comps:',\n",
    ")\n",
    "nComponentesWidget"
   ]
  },
  {
   "cell_type": "code",
   "execution_count": 10,
   "metadata": {
    "scrolled": true
   },
   "outputs": [
    {
     "data": {
      "text/html": [
       "<div>\n",
       "<style scoped>\n",
       "    .dataframe tbody tr th:only-of-type {\n",
       "        vertical-align: middle;\n",
       "    }\n",
       "\n",
       "    .dataframe tbody tr th {\n",
       "        vertical-align: top;\n",
       "    }\n",
       "\n",
       "    .dataframe thead th {\n",
       "        text-align: right;\n",
       "    }\n",
       "</style>\n",
       "<table border=\"1\" class=\"dataframe\">\n",
       "  <thead>\n",
       "    <tr style=\"text-align: right;\">\n",
       "      <th></th>\n",
       "      <th>PC1</th>\n",
       "      <th>PC2</th>\n",
       "      <th>PC3</th>\n",
       "      <th>PC4</th>\n",
       "      <th>PC5</th>\n",
       "      <th>PC6</th>\n",
       "      <th>PC7</th>\n",
       "      <th>PC8</th>\n",
       "      <th>PC9</th>\n",
       "      <th>PC10</th>\n",
       "      <th>...</th>\n",
       "      <th>PC21</th>\n",
       "      <th>PC22</th>\n",
       "      <th>PC23</th>\n",
       "      <th>PC24</th>\n",
       "      <th>PC25</th>\n",
       "      <th>PC26</th>\n",
       "      <th>PC27</th>\n",
       "      <th>PC28</th>\n",
       "      <th>PC29</th>\n",
       "      <th>PC30</th>\n",
       "    </tr>\n",
       "  </thead>\n",
       "  <tbody>\n",
       "    <tr>\n",
       "      <th>0</th>\n",
       "      <td>10.460596</td>\n",
       "      <td>-3.339109</td>\n",
       "      <td>-4.563161</td>\n",
       "      <td>3.327759</td>\n",
       "      <td>-2.208121</td>\n",
       "      <td>6.064103</td>\n",
       "      <td>-4.216890</td>\n",
       "      <td>-2.282480</td>\n",
       "      <td>2.566458</td>\n",
       "      <td>-0.184194</td>\n",
       "      <td>...</td>\n",
       "      <td>3.289986</td>\n",
       "      <td>-3.362592</td>\n",
       "      <td>3.368734</td>\n",
       "      <td>1.235155</td>\n",
       "      <td>1.622031</td>\n",
       "      <td>-1.376425</td>\n",
       "      <td>0.344690</td>\n",
       "      <td>-1.868855</td>\n",
       "      <td>-0.626166</td>\n",
       "      <td>-0.225752</td>\n",
       "    </tr>\n",
       "    <tr>\n",
       "      <th>1</th>\n",
       "      <td>10.476073</td>\n",
       "      <td>-3.105652</td>\n",
       "      <td>-4.598310</td>\n",
       "      <td>3.396971</td>\n",
       "      <td>-2.553714</td>\n",
       "      <td>6.859681</td>\n",
       "      <td>-4.514791</td>\n",
       "      <td>-2.525036</td>\n",
       "      <td>2.475475</td>\n",
       "      <td>-0.264140</td>\n",
       "      <td>...</td>\n",
       "      <td>3.089561</td>\n",
       "      <td>-3.950896</td>\n",
       "      <td>3.206424</td>\n",
       "      <td>1.015040</td>\n",
       "      <td>1.393166</td>\n",
       "      <td>-0.730817</td>\n",
       "      <td>-0.082355</td>\n",
       "      <td>-2.178043</td>\n",
       "      <td>0.096570</td>\n",
       "      <td>0.324409</td>\n",
       "    </tr>\n",
       "    <tr>\n",
       "      <th>2</th>\n",
       "      <td>10.461930</td>\n",
       "      <td>-3.080342</td>\n",
       "      <td>-4.655892</td>\n",
       "      <td>3.387952</td>\n",
       "      <td>-2.533418</td>\n",
       "      <td>7.027484</td>\n",
       "      <td>-4.408574</td>\n",
       "      <td>-2.720884</td>\n",
       "      <td>2.408274</td>\n",
       "      <td>-0.350027</td>\n",
       "      <td>...</td>\n",
       "      <td>2.991455</td>\n",
       "      <td>-4.084362</td>\n",
       "      <td>3.189334</td>\n",
       "      <td>1.082450</td>\n",
       "      <td>1.278291</td>\n",
       "      <td>-0.504518</td>\n",
       "      <td>-0.374555</td>\n",
       "      <td>-2.195853</td>\n",
       "      <td>0.204466</td>\n",
       "      <td>0.541345</td>\n",
       "    </tr>\n",
       "    <tr>\n",
       "      <th>3</th>\n",
       "      <td>10.266744</td>\n",
       "      <td>-3.118854</td>\n",
       "      <td>-4.481004</td>\n",
       "      <td>3.101231</td>\n",
       "      <td>-2.716013</td>\n",
       "      <td>6.562618</td>\n",
       "      <td>-3.877002</td>\n",
       "      <td>-2.767032</td>\n",
       "      <td>2.268119</td>\n",
       "      <td>-0.407711</td>\n",
       "      <td>...</td>\n",
       "      <td>3.191954</td>\n",
       "      <td>-3.891292</td>\n",
       "      <td>3.143225</td>\n",
       "      <td>1.843030</td>\n",
       "      <td>1.062003</td>\n",
       "      <td>-1.017713</td>\n",
       "      <td>-0.202111</td>\n",
       "      <td>-2.225519</td>\n",
       "      <td>0.175120</td>\n",
       "      <td>-0.038451</td>\n",
       "    </tr>\n",
       "    <tr>\n",
       "      <th>4</th>\n",
       "      <td>10.291467</td>\n",
       "      <td>-3.159250</td>\n",
       "      <td>-4.525222</td>\n",
       "      <td>3.179001</td>\n",
       "      <td>-2.780219</td>\n",
       "      <td>6.549292</td>\n",
       "      <td>-3.847466</td>\n",
       "      <td>-2.891800</td>\n",
       "      <td>2.291335</td>\n",
       "      <td>-0.392369</td>\n",
       "      <td>...</td>\n",
       "      <td>3.254922</td>\n",
       "      <td>-3.811212</td>\n",
       "      <td>2.976277</td>\n",
       "      <td>1.694331</td>\n",
       "      <td>0.967052</td>\n",
       "      <td>-1.020780</td>\n",
       "      <td>-0.107664</td>\n",
       "      <td>-2.242664</td>\n",
       "      <td>0.045540</td>\n",
       "      <td>0.020421</td>\n",
       "    </tr>\n",
       "  </tbody>\n",
       "</table>\n",
       "<p>5 rows × 30 columns</p>\n",
       "</div>"
      ],
      "text/plain": [
       "         PC1       PC2       PC3       PC4       PC5       PC6       PC7  \\\n",
       "0  10.460596 -3.339109 -4.563161  3.327759 -2.208121  6.064103 -4.216890   \n",
       "1  10.476073 -3.105652 -4.598310  3.396971 -2.553714  6.859681 -4.514791   \n",
       "2  10.461930 -3.080342 -4.655892  3.387952 -2.533418  7.027484 -4.408574   \n",
       "3  10.266744 -3.118854 -4.481004  3.101231 -2.716013  6.562618 -3.877002   \n",
       "4  10.291467 -3.159250 -4.525222  3.179001 -2.780219  6.549292 -3.847466   \n",
       "\n",
       "        PC8       PC9      PC10  ...      PC21      PC22      PC23      PC24  \\\n",
       "0 -2.282480  2.566458 -0.184194  ...  3.289986 -3.362592  3.368734  1.235155   \n",
       "1 -2.525036  2.475475 -0.264140  ...  3.089561 -3.950896  3.206424  1.015040   \n",
       "2 -2.720884  2.408274 -0.350027  ...  2.991455 -4.084362  3.189334  1.082450   \n",
       "3 -2.767032  2.268119 -0.407711  ...  3.191954 -3.891292  3.143225  1.843030   \n",
       "4 -2.891800  2.291335 -0.392369  ...  3.254922 -3.811212  2.976277  1.694331   \n",
       "\n",
       "       PC25      PC26      PC27      PC28      PC29      PC30  \n",
       "0  1.622031 -1.376425  0.344690 -1.868855 -0.626166 -0.225752  \n",
       "1  1.393166 -0.730817 -0.082355 -2.178043  0.096570  0.324409  \n",
       "2  1.278291 -0.504518 -0.374555 -2.195853  0.204466  0.541345  \n",
       "3  1.062003 -1.017713 -0.202111 -2.225519  0.175120 -0.038451  \n",
       "4  0.967052 -1.020780 -0.107664 -2.242664  0.045540  0.020421  \n",
       "\n",
       "[5 rows x 30 columns]"
      ]
     },
     "execution_count": 10,
     "metadata": {},
     "output_type": "execute_result"
    }
   ],
   "source": [
    "pca = PCA(n_components= 30)\n",
    "atributos = []\n",
    "for i in range(30):\n",
    "    atributos.append('PC'+ str(i+1))\n",
    "x_pca = pca.fit_transform(x_estandarizada)\n",
    "pca_dataframe = pd.DataFrame(data = x_pca, columns=atributos)\n",
    "\n",
    "x_fin = pca_dataframe\n",
    "x_fin.head()"
   ]
  },
  {
   "cell_type": "markdown",
   "metadata": {},
   "source": [
    "## 4. Modelos de Clasificadores"
   ]
  },
  {
   "cell_type": "code",
   "execution_count": 11,
   "metadata": {},
   "outputs": [
    {
     "data": {
      "application/vnd.jupyter.widget-view+json": {
       "model_id": "15bdcd451a324d42958537587b11b372",
       "version_major": 2,
       "version_minor": 0
      },
      "text/plain": [
       "BoundedIntText(value=2, description='kFolds:', max=30, min=2)"
      ]
     },
     "metadata": {},
     "output_type": "display_data"
    }
   ],
   "source": [
    "foldsWidget = widgets.BoundedIntText(\n",
    "    min=2,\n",
    "    max=30,\n",
    "    step=1,\n",
    "    description='kFolds:',\n",
    ")\n",
    "foldsWidget"
   ]
  },
  {
   "cell_type": "code",
   "execution_count": 12,
   "metadata": {},
   "outputs": [
    {
     "data": {
      "text/plain": [
       "10"
      ]
     },
     "execution_count": 12,
     "metadata": {},
     "output_type": "execute_result"
    }
   ],
   "source": [
    "folds = foldsWidget.value\n",
    "folds"
   ]
  },
  {
   "cell_type": "markdown",
   "metadata": {},
   "source": [
    "### 4.1 KNN"
   ]
  },
  {
   "cell_type": "code",
   "execution_count": 13,
   "metadata": {},
   "outputs": [
    {
     "data": {
      "application/vnd.jupyter.widget-view+json": {
       "model_id": "1423c4434b4a49198e98d2c65c64f8ea",
       "version_major": 2,
       "version_minor": 0
      },
      "text/plain": [
       "BoundedIntText(value=1, description='vecinos:', max=10, min=1)"
      ]
     },
     "metadata": {},
     "output_type": "display_data"
    }
   ],
   "source": [
    "neighborsWidget = widgets.BoundedIntText(\n",
    "    min=1,\n",
    "    max=10,\n",
    "    step=1,\n",
    "    description='vecinos:',\n",
    ")\n",
    "neighborsWidget"
   ]
  },
  {
   "cell_type": "code",
   "execution_count": 14,
   "metadata": {
    "scrolled": true
   },
   "outputs": [
    {
     "name": "stdout",
     "output_type": "stream",
     "text": [
      "Puntuaciónes de la Validación Cruzada:\n",
      " [0.83673469 0.97959184 0.95918367 0.97959184 1.         0.89583333\n",
      " 0.97916667 1.         0.9375     0.8125    ]\n",
      "\n",
      "Precisión del k-Fold:\n",
      " 0.94 (+/- 0.13)\n"
     ]
    }
   ],
   "source": [
    "from sklearn.neighbors import KNeighborsClassifier\n",
    "from sklearn.model_selection import cross_val_score, cross_val_predict\n",
    "from sklearn import metrics\n",
    "\n",
    "model_1 = KNeighborsClassifier(n_neighbors= neighborsWidget.value)\n",
    "\n",
    "scores = cross_val_score(model_1, x_fin, y_fin, cv=folds)\n",
    "\n",
    "print (\"Puntuaciónes de la Validación Cruzada:\\n\", scores)\n",
    "print(\"\\nPrecisión del k-Fold:\\n %0.2f (+/- %0.2f)\" % (scores.mean(), scores.std() * 2))"
   ]
  },
  {
   "cell_type": "code",
   "execution_count": 21,
   "metadata": {},
   "outputs": [
    {
     "data": {
      "text/plain": [
       "0      0\n",
       "1      0\n",
       "2      0\n",
       "3      0\n",
       "4      0\n",
       "      ..\n",
       "479    5\n",
       "480    5\n",
       "481    5\n",
       "482    5\n",
       "483    5\n",
       "Name: clase, Length: 484, dtype: int64"
      ]
     },
     "execution_count": 21,
     "metadata": {},
     "output_type": "execute_result"
    }
   ],
   "source": [
    "y_fin"
   ]
  },
  {
   "cell_type": "code",
   "execution_count": 16,
   "metadata": {},
   "outputs": [
    {
     "data": {
      "text/plain": [
       "<matplotlib.collections.PathCollection at 0x1a20e41210>"
      ]
     },
     "execution_count": 16,
     "metadata": {},
     "output_type": "execute_result"
    },
    {
     "data": {
      "image/png": "[encoded data removed]",
      "text/plain": [
       "<Figure size 432x288 with 1 Axes>"
      ]
     },
     "metadata": {
      "needs_background": "light"
     },
     "output_type": "display_data"
    }
   ],
   "source": [
    "pred_1 = cross_val_predict(model_1, x_fin, y_fin, cv= folds)\n",
    "plt.scatter(y_fin, pred_1)"
   ]
  },
  {
   "cell_type": "code",
   "execution_count": 197,
   "metadata": {},
   "outputs": [
    {
     "name": "stdout",
     "output_type": "stream",
     "text": [
      "******* CLASIFICADOR KNN *******\n",
      "\n",
      "Matriz de confusión: \n",
      "[[ 59   1   0   0   0   7]\n",
      " [  2 218   0   0   0   4]\n",
      " [  4   2  35   0   1   0]\n",
      " [  0   0   0  22   0   0]\n",
      " [  1   0   0   0  37   4]\n",
      " [  0   0   0   0   1  86]]\n",
      "\n",
      "Reporte de clasificación: \n",
      "              precision    recall  f1-score   support\n",
      "\n",
      "           0       0.89      0.88      0.89        67\n",
      "           1       0.99      0.97      0.98       224\n",
      "           2       1.00      0.83      0.91        42\n",
      "           3       1.00      1.00      1.00        22\n",
      "           4       0.95      0.88      0.91        42\n",
      "           5       0.85      0.99      0.91        87\n",
      "\n",
      "    accuracy                           0.94       484\n",
      "   macro avg       0.95      0.93      0.93       484\n",
      "weighted avg       0.95      0.94      0.94       484\n",
      "\n",
      "\n",
      "Puntaje de precisión: \n",
      "0.9442148760330579\n"
     ]
    }
   ],
   "source": [
    "from sklearn.metrics import classification_report, confusion_matrix, accuracy_score\n",
    "\n",
    "print(\"******* CLASIFICADOR KNN *******\\n\")\n",
    "print(\"Matriz de confusión: \")\n",
    "print(confusion_matrix(y_fin, pred_1))\n",
    "print(\"\\nReporte de clasificación: \")\n",
    "print(classification_report(y_fin, pred_1))\n",
    "print(\"\\nPuntaje de precisión: \")\n",
    "print(accuracy_score(y_fin, pred_1))"
   ]
  },
  {
   "cell_type": "code",
   "execution_count": 200,
   "metadata": {},
   "outputs": [],
   "source": [
    "#save best model\n",
    "knn_best = model_1;"
   ]
  },
  {
   "cell_type": "markdown",
   "metadata": {},
   "source": [
    "## Neural Network"
   ]
  },
  {
   "cell_type": "code",
   "execution_count": 207,
   "metadata": {
    "scrolled": true
   },
   "outputs": [
    {
     "name": "stdout",
     "output_type": "stream",
     "text": [
      "Best parameters found:\n",
      " {'activation': 'relu', 'alpha': 0.05, 'hidden_layer_sizes': (50, 50, 50), 'learning_rate': 'constant', 'solver': 'adam'}\n",
      "0.969 (+/-0.000) for {'activation': 'tanh', 'alpha': 0.0001, 'hidden_layer_sizes': (50, 50, 50), 'learning_rate': 'constant', 'solver': 'sgd'}\n",
      "0.979 (+/-0.019) for {'activation': 'tanh', 'alpha': 0.0001, 'hidden_layer_sizes': (50, 50, 50), 'learning_rate': 'constant', 'solver': 'adam'}\n",
      "0.974 (+/-0.007) for {'activation': 'tanh', 'alpha': 0.0001, 'hidden_layer_sizes': (50, 50, 50), 'learning_rate': 'adaptive', 'solver': 'sgd'}\n",
      "0.974 (+/-0.007) for {'activation': 'tanh', 'alpha': 0.0001, 'hidden_layer_sizes': (50, 50, 50), 'learning_rate': 'adaptive', 'solver': 'adam'}\n",
      "0.972 (+/-0.007) for {'activation': 'tanh', 'alpha': 0.0001, 'hidden_layer_sizes': (50, 100, 50), 'learning_rate': 'constant', 'solver': 'sgd'}\n",
      "0.977 (+/-0.013) for {'activation': 'tanh', 'alpha': 0.0001, 'hidden_layer_sizes': (50, 100, 50), 'learning_rate': 'constant', 'solver': 'adam'}\n",
      "0.966 (+/-0.007) for {'activation': 'tanh', 'alpha': 0.0001, 'hidden_layer_sizes': (50, 100, 50), 'learning_rate': 'adaptive', 'solver': 'sgd'}\n",
      "0.974 (+/-0.007) for {'activation': 'tanh', 'alpha': 0.0001, 'hidden_layer_sizes': (50, 100, 50), 'learning_rate': 'adaptive', 'solver': 'adam'}\n",
      "0.974 (+/-0.007) for {'activation': 'tanh', 'alpha': 0.0001, 'hidden_layer_sizes': (100,), 'learning_rate': 'constant', 'solver': 'sgd'}\n",
      "0.974 (+/-0.007) for {'activation': 'tanh', 'alpha': 0.0001, 'hidden_layer_sizes': (100,), 'learning_rate': 'constant', 'solver': 'adam'}\n",
      "0.974 (+/-0.007) for {'activation': 'tanh', 'alpha': 0.0001, 'hidden_layer_sizes': (100,), 'learning_rate': 'adaptive', 'solver': 'sgd'}\n",
      "0.974 (+/-0.007) for {'activation': 'tanh', 'alpha': 0.0001, 'hidden_layer_sizes': (100,), 'learning_rate': 'adaptive', 'solver': 'adam'}\n",
      "0.966 (+/-0.019) for {'activation': 'tanh', 'alpha': 0.05, 'hidden_layer_sizes': (50, 50, 50), 'learning_rate': 'constant', 'solver': 'sgd'}\n",
      "0.977 (+/-0.013) for {'activation': 'tanh', 'alpha': 0.05, 'hidden_layer_sizes': (50, 50, 50), 'learning_rate': 'constant', 'solver': 'adam'}\n",
      "0.974 (+/-0.007) for {'activation': 'tanh', 'alpha': 0.05, 'hidden_layer_sizes': (50, 50, 50), 'learning_rate': 'adaptive', 'solver': 'sgd'}\n",
      "0.974 (+/-0.007) for {'activation': 'tanh', 'alpha': 0.05, 'hidden_layer_sizes': (50, 50, 50), 'learning_rate': 'adaptive', 'solver': 'adam'}\n",
      "0.977 (+/-0.013) for {'activation': 'tanh', 'alpha': 0.05, 'hidden_layer_sizes': (50, 100, 50), 'learning_rate': 'constant', 'solver': 'sgd'}\n",
      "0.979 (+/-0.015) for {'activation': 'tanh', 'alpha': 0.05, 'hidden_layer_sizes': (50, 100, 50), 'learning_rate': 'constant', 'solver': 'adam'}\n",
      "0.969 (+/-0.013) for {'activation': 'tanh', 'alpha': 0.05, 'hidden_layer_sizes': (50, 100, 50), 'learning_rate': 'adaptive', 'solver': 'sgd'}\n",
      "0.974 (+/-0.007) for {'activation': 'tanh', 'alpha': 0.05, 'hidden_layer_sizes': (50, 100, 50), 'learning_rate': 'adaptive', 'solver': 'adam'}\n",
      "0.977 (+/-0.013) for {'activation': 'tanh', 'alpha': 0.05, 'hidden_layer_sizes': (100,), 'learning_rate': 'constant', 'solver': 'sgd'}\n",
      "0.977 (+/-0.013) for {'activation': 'tanh', 'alpha': 0.05, 'hidden_layer_sizes': (100,), 'learning_rate': 'constant', 'solver': 'adam'}\n",
      "0.974 (+/-0.007) for {'activation': 'tanh', 'alpha': 0.05, 'hidden_layer_sizes': (100,), 'learning_rate': 'adaptive', 'solver': 'sgd'}\n",
      "0.977 (+/-0.013) for {'activation': 'tanh', 'alpha': 0.05, 'hidden_layer_sizes': (100,), 'learning_rate': 'adaptive', 'solver': 'adam'}\n",
      "0.969 (+/-0.013) for {'activation': 'relu', 'alpha': 0.0001, 'hidden_layer_sizes': (50, 50, 50), 'learning_rate': 'constant', 'solver': 'sgd'}\n",
      "0.977 (+/-0.000) for {'activation': 'relu', 'alpha': 0.0001, 'hidden_layer_sizes': (50, 50, 50), 'learning_rate': 'constant', 'solver': 'adam'}\n",
      "0.974 (+/-0.007) for {'activation': 'relu', 'alpha': 0.0001, 'hidden_layer_sizes': (50, 50, 50), 'learning_rate': 'adaptive', 'solver': 'sgd'}\n",
      "0.974 (+/-0.019) for {'activation': 'relu', 'alpha': 0.0001, 'hidden_layer_sizes': (50, 50, 50), 'learning_rate': 'adaptive', 'solver': 'adam'}\n",
      "0.974 (+/-0.007) for {'activation': 'relu', 'alpha': 0.0001, 'hidden_layer_sizes': (50, 100, 50), 'learning_rate': 'constant', 'solver': 'sgd'}\n",
      "0.977 (+/-0.000) for {'activation': 'relu', 'alpha': 0.0001, 'hidden_layer_sizes': (50, 100, 50), 'learning_rate': 'constant', 'solver': 'adam'}\n",
      "0.961 (+/-0.000) for {'activation': 'relu', 'alpha': 0.0001, 'hidden_layer_sizes': (50, 100, 50), 'learning_rate': 'adaptive', 'solver': 'sgd'}\n",
      "0.977 (+/-0.013) for {'activation': 'relu', 'alpha': 0.0001, 'hidden_layer_sizes': (50, 100, 50), 'learning_rate': 'adaptive', 'solver': 'adam'}\n",
      "0.972 (+/-0.026) for {'activation': 'relu', 'alpha': 0.0001, 'hidden_layer_sizes': (100,), 'learning_rate': 'constant', 'solver': 'sgd'}\n",
      "0.974 (+/-0.007) for {'activation': 'relu', 'alpha': 0.0001, 'hidden_layer_sizes': (100,), 'learning_rate': 'constant', 'solver': 'adam'}\n",
      "0.979 (+/-0.007) for {'activation': 'relu', 'alpha': 0.0001, 'hidden_layer_sizes': (100,), 'learning_rate': 'adaptive', 'solver': 'sgd'}\n",
      "0.972 (+/-0.007) for {'activation': 'relu', 'alpha': 0.0001, 'hidden_layer_sizes': (100,), 'learning_rate': 'adaptive', 'solver': 'adam'}\n",
      "0.974 (+/-0.015) for {'activation': 'relu', 'alpha': 0.05, 'hidden_layer_sizes': (50, 50, 50), 'learning_rate': 'constant', 'solver': 'sgd'}\n",
      "0.982 (+/-0.007) for {'activation': 'relu', 'alpha': 0.05, 'hidden_layer_sizes': (50, 50, 50), 'learning_rate': 'constant', 'solver': 'adam'}\n",
      "0.974 (+/-0.019) for {'activation': 'relu', 'alpha': 0.05, 'hidden_layer_sizes': (50, 50, 50), 'learning_rate': 'adaptive', 'solver': 'sgd'}\n",
      "0.977 (+/-0.013) for {'activation': 'relu', 'alpha': 0.05, 'hidden_layer_sizes': (50, 50, 50), 'learning_rate': 'adaptive', 'solver': 'adam'}\n",
      "0.977 (+/-0.013) for {'activation': 'relu', 'alpha': 0.05, 'hidden_layer_sizes': (50, 100, 50), 'learning_rate': 'constant', 'solver': 'sgd'}\n",
      "0.974 (+/-0.007) for {'activation': 'relu', 'alpha': 0.05, 'hidden_layer_sizes': (50, 100, 50), 'learning_rate': 'constant', 'solver': 'adam'}\n",
      "0.977 (+/-0.000) for {'activation': 'relu', 'alpha': 0.05, 'hidden_layer_sizes': (50, 100, 50), 'learning_rate': 'adaptive', 'solver': 'sgd'}\n",
      "0.977 (+/-0.000) for {'activation': 'relu', 'alpha': 0.05, 'hidden_layer_sizes': (50, 100, 50), 'learning_rate': 'adaptive', 'solver': 'adam'}\n",
      "0.974 (+/-0.015) for {'activation': 'relu', 'alpha': 0.05, 'hidden_layer_sizes': (100,), 'learning_rate': 'constant', 'solver': 'sgd'}\n",
      "0.979 (+/-0.007) for {'activation': 'relu', 'alpha': 0.05, 'hidden_layer_sizes': (100,), 'learning_rate': 'constant', 'solver': 'adam'}\n",
      "0.974 (+/-0.007) for {'activation': 'relu', 'alpha': 0.05, 'hidden_layer_sizes': (100,), 'learning_rate': 'adaptive', 'solver': 'sgd'}\n",
      "0.977 (+/-0.013) for {'activation': 'relu', 'alpha': 0.05, 'hidden_layer_sizes': (100,), 'learning_rate': 'adaptive', 'solver': 'adam'}\n"
     ]
    }
   ],
   "source": [
    "from sklearn.neural_network import MLPClassifier\n",
    "mlp = MLPClassifier(max_iter=300)\n",
    "\n",
    "parameter_space = {\n",
    "    'hidden_layer_sizes': [(50,50,50), (50,100,50), (100,)],\n",
    "    'activation': ['tanh', 'relu'],\n",
    "    'solver': ['sgd', 'adam'],\n",
    "    'alpha': [0.0001, 0.05],\n",
    "    'learning_rate': ['constant','adaptive'],\n",
    "}\n",
    "\n",
    "from sklearn.model_selection import GridSearchCV\n",
    "\n",
    "model_2 = GridSearchCV(mlp, parameter_space, n_jobs=-1, cv=3)\n",
    "model_2.fit(X_train, y_train)\n",
    "\n",
    "# Best paramete set\n",
    "print('Best parameters found:\\n', model_2.best_params_)\n",
    "\n",
    "# All results\n",
    "means = model_2.cv_results_['mean_test_score']\n",
    "stds = model_2.cv_results_['std_test_score']\n",
    "for mean, std, params in zip(means, stds, model_2.cv_results_['params']):\n",
    "    print(\"%0.3f (+/-%0.03f) for %r\" % (mean, std * 2, params))\n"
   ]
  },
  {
   "cell_type": "code",
   "execution_count": 208,
   "metadata": {},
   "outputs": [],
   "source": [
    "y_true, pred_2 = y_test , model_2.predict(X_test)"
   ]
  },
  {
   "cell_type": "code",
   "execution_count": 209,
   "metadata": {},
   "outputs": [
    {
     "name": "stdout",
     "output_type": "stream",
     "text": [
      "******* CLASIFICADOR NEURAL NET*******\n",
      "\n",
      "Matriz de confusión: \n",
      "[[11  1  0  0  0  0]\n",
      " [ 0 41  0  0  0  0]\n",
      " [ 0  0 12  0  0  0]\n",
      " [ 0  0  0  4  0  0]\n",
      " [ 0  0  0  0  8  0]\n",
      " [ 0  0  0  0  0 20]]\n",
      "\n",
      "Reporte de clasificación: \n",
      "              precision    recall  f1-score   support\n",
      "\n",
      "           0       1.00      0.92      0.96        12\n",
      "           1       0.98      1.00      0.99        41\n",
      "           2       1.00      1.00      1.00        12\n",
      "           3       1.00      1.00      1.00         4\n",
      "           4       1.00      1.00      1.00         8\n",
      "           5       1.00      1.00      1.00        20\n",
      "\n",
      "    accuracy                           0.99        97\n",
      "   macro avg       1.00      0.99      0.99        97\n",
      "weighted avg       0.99      0.99      0.99        97\n",
      "\n",
      "\n",
      "Puntaje de precisión: \n",
      "0.9896907216494846\n"
     ]
    }
   ],
   "source": [
    "print(\"******* CLASIFICADOR NEURAL NET*******\\n\")\n",
    "print(\"Matriz de confusión: \")\n",
    "print(confusion_matrix(y_test, pred_2))\n",
    "print(\"\\nReporte de clasificación: \")\n",
    "print(classification_report(y_test, pred_2))\n",
    "print(\"\\nPuntaje de precisión: \")\n",
    "print(accuracy_score(y_test, pred_2))"
   ]
  },
  {
   "cell_type": "code",
   "execution_count": 210,
   "metadata": {},
   "outputs": [],
   "source": [
    "#save best model\n",
    "nn_best = model_2\n"
   ]
  },
  {
   "cell_type": "markdown",
   "metadata": {},
   "source": [
    "## Naive Bayes"
   ]
  },
  {
   "cell_type": "code",
   "execution_count": 211,
   "metadata": {},
   "outputs": [],
   "source": [
    "from sklearn.naive_bayes import GaussianNB\n",
    "\n",
    "model_3 = GaussianNB().fit(X_train, y_train)\n",
    "pred_3 = model_3.predict(X_test)"
   ]
  },
  {
   "cell_type": "code",
   "execution_count": 212,
   "metadata": {},
   "outputs": [
    {
     "name": "stdout",
     "output_type": "stream",
     "text": [
      "******* CLASIFICADOR NAIVE BAYES *******\n",
      "\n",
      "Matriz de confusión: \n",
      "[[11  0  1  0  0  0]\n",
      " [ 1 34  5  0  0  1]\n",
      " [ 0  0 12  0  0  0]\n",
      " [ 0  0  0  4  0  0]\n",
      " [ 0  1  0  0  7  0]\n",
      " [ 0  0  0  0  1 19]]\n",
      "\n",
      "Reporte de clasificación: \n",
      "              precision    recall  f1-score   support\n",
      "\n",
      "           0       0.92      0.92      0.92        12\n",
      "           1       0.97      0.83      0.89        41\n",
      "           2       0.67      1.00      0.80        12\n",
      "           3       1.00      1.00      1.00         4\n",
      "           4       0.88      0.88      0.88         8\n",
      "           5       0.95      0.95      0.95        20\n",
      "\n",
      "    accuracy                           0.90        97\n",
      "   macro avg       0.90      0.93      0.91        97\n",
      "weighted avg       0.92      0.90      0.90        97\n",
      "\n",
      "\n",
      "Puntaje de precisión: \n",
      "0.8969072164948454\n"
     ]
    }
   ],
   "source": [
    "print(\"******* CLASIFICADOR NAIVE BAYES *******\\n\")\n",
    "print(\"Matriz de confusión: \")\n",
    "print(confusion_matrix(y_test, pred_3))\n",
    "print(\"\\nReporte de clasificación: \")\n",
    "print(classification_report(y_test, pred_3))\n",
    "print(\"\\nPuntaje de precisión: \")\n",
    "print(accuracy_score(y_test, pred_3))"
   ]
  },
  {
   "cell_type": "code",
   "execution_count": 213,
   "metadata": {},
   "outputs": [],
   "source": [
    "#save best model\n",
    "nb_best = model_3"
   ]
  },
  {
   "cell_type": "markdown",
   "metadata": {},
   "source": [
    "## Avance 3\n",
    "https://towardsdatascience.com/ensemble-learning-using-scikit-learn-85c4531ff86a"
   ]
  },
  {
   "cell_type": "code",
   "execution_count": 214,
   "metadata": {},
   "outputs": [
    {
     "ename": "NotFittedError",
     "evalue": "This KNeighborsClassifier instance is not fitted yet. Call 'fit' with appropriate arguments before using this estimator.",
     "output_type": "error",
     "traceback": [
      "\u001b[0;31m---------------------------------------------------------------------------\u001b[0m",
      "\u001b[0;31mNotFittedError\u001b[0m                            Traceback (most recent call last)",
      "\u001b[0;32m<ipython-input-214-aa57efa29e39>\u001b[0m in \u001b[0;36m<module>\u001b[0;34m\u001b[0m\n\u001b[0;32m----> 1\u001b[0;31m \u001b[0mprint\u001b[0m\u001b[0;34m(\u001b[0m\u001b[0;34m'knn: {}'\u001b[0m\u001b[0;34m.\u001b[0m\u001b[0mformat\u001b[0m\u001b[0;34m(\u001b[0m\u001b[0mknn_best\u001b[0m\u001b[0;34m.\u001b[0m\u001b[0mscore\u001b[0m\u001b[0;34m(\u001b[0m\u001b[0mX_test\u001b[0m\u001b[0;34m,\u001b[0m \u001b[0my_test\u001b[0m\u001b[0;34m)\u001b[0m\u001b[0;34m)\u001b[0m\u001b[0;34m)\u001b[0m\u001b[0;34m\u001b[0m\u001b[0;34m\u001b[0m\u001b[0m\n\u001b[0m\u001b[1;32m      2\u001b[0m \u001b[0mprint\u001b[0m\u001b[0;34m(\u001b[0m\u001b[0;34m'neural net: {}'\u001b[0m\u001b[0;34m.\u001b[0m\u001b[0mformat\u001b[0m\u001b[0;34m(\u001b[0m\u001b[0mnn_best\u001b[0m\u001b[0;34m.\u001b[0m\u001b[0mscore\u001b[0m\u001b[0;34m(\u001b[0m\u001b[0mX_test\u001b[0m\u001b[0;34m,\u001b[0m \u001b[0my_test\u001b[0m\u001b[0;34m)\u001b[0m\u001b[0;34m)\u001b[0m\u001b[0;34m)\u001b[0m\u001b[0;34m\u001b[0m\u001b[0;34m\u001b[0m\u001b[0m\n\u001b[1;32m      3\u001b[0m \u001b[0mprint\u001b[0m\u001b[0;34m(\u001b[0m\u001b[0;34m'naive bayes: {}'\u001b[0m\u001b[0;34m.\u001b[0m\u001b[0mformat\u001b[0m\u001b[0;34m(\u001b[0m\u001b[0mnb_best\u001b[0m\u001b[0;34m.\u001b[0m\u001b[0mscore\u001b[0m\u001b[0;34m(\u001b[0m\u001b[0mX_test\u001b[0m\u001b[0;34m,\u001b[0m \u001b[0my_test\u001b[0m\u001b[0;34m)\u001b[0m\u001b[0;34m)\u001b[0m\u001b[0;34m)\u001b[0m\u001b[0;34m\u001b[0m\u001b[0;34m\u001b[0m\u001b[0m\n",
      "\u001b[0;32m~/opt/anaconda3/lib/python3.7/site-packages/sklearn/base.py\u001b[0m in \u001b[0;36mscore\u001b[0;34m(self, X, y, sample_weight)\u001b[0m\n\u001b[1;32m    367\u001b[0m         \"\"\"\n\u001b[1;32m    368\u001b[0m         \u001b[0;32mfrom\u001b[0m \u001b[0;34m.\u001b[0m\u001b[0mmetrics\u001b[0m \u001b[0;32mimport\u001b[0m \u001b[0maccuracy_score\u001b[0m\u001b[0;34m\u001b[0m\u001b[0;34m\u001b[0m\u001b[0m\n\u001b[0;32m--> 369\u001b[0;31m         \u001b[0;32mreturn\u001b[0m \u001b[0maccuracy_score\u001b[0m\u001b[0;34m(\u001b[0m\u001b[0my\u001b[0m\u001b[0;34m,\u001b[0m \u001b[0mself\u001b[0m\u001b[0;34m.\u001b[0m\u001b[0mpredict\u001b[0m\u001b[0;34m(\u001b[0m\u001b[0mX\u001b[0m\u001b[0;34m)\u001b[0m\u001b[0;34m,\u001b[0m \u001b[0msample_weight\u001b[0m\u001b[0;34m=\u001b[0m\u001b[0msample_weight\u001b[0m\u001b[0;34m)\u001b[0m\u001b[0;34m\u001b[0m\u001b[0;34m\u001b[0m\u001b[0m\n\u001b[0m\u001b[1;32m    370\u001b[0m \u001b[0;34m\u001b[0m\u001b[0m\n\u001b[1;32m    371\u001b[0m \u001b[0;34m\u001b[0m\u001b[0m\n",
      "\u001b[0;32m~/opt/anaconda3/lib/python3.7/site-packages/sklearn/neighbors/_classification.py\u001b[0m in \u001b[0;36mpredict\u001b[0;34m(self, X)\u001b[0m\n\u001b[1;32m    171\u001b[0m         \u001b[0mX\u001b[0m \u001b[0;34m=\u001b[0m \u001b[0mcheck_array\u001b[0m\u001b[0;34m(\u001b[0m\u001b[0mX\u001b[0m\u001b[0;34m,\u001b[0m \u001b[0maccept_sparse\u001b[0m\u001b[0;34m=\u001b[0m\u001b[0;34m'csr'\u001b[0m\u001b[0;34m)\u001b[0m\u001b[0;34m\u001b[0m\u001b[0;34m\u001b[0m\u001b[0m\n\u001b[1;32m    172\u001b[0m \u001b[0;34m\u001b[0m\u001b[0m\n\u001b[0;32m--> 173\u001b[0;31m         \u001b[0mneigh_dist\u001b[0m\u001b[0;34m,\u001b[0m \u001b[0mneigh_ind\u001b[0m \u001b[0;34m=\u001b[0m \u001b[0mself\u001b[0m\u001b[0;34m.\u001b[0m\u001b[0mkneighbors\u001b[0m\u001b[0;34m(\u001b[0m\u001b[0mX\u001b[0m\u001b[0;34m)\u001b[0m\u001b[0;34m\u001b[0m\u001b[0;34m\u001b[0m\u001b[0m\n\u001b[0m\u001b[1;32m    174\u001b[0m         \u001b[0mclasses_\u001b[0m \u001b[0;34m=\u001b[0m \u001b[0mself\u001b[0m\u001b[0;34m.\u001b[0m\u001b[0mclasses_\u001b[0m\u001b[0;34m\u001b[0m\u001b[0;34m\u001b[0m\u001b[0m\n\u001b[1;32m    175\u001b[0m         \u001b[0m_y\u001b[0m \u001b[0;34m=\u001b[0m \u001b[0mself\u001b[0m\u001b[0;34m.\u001b[0m\u001b[0m_y\u001b[0m\u001b[0;34m\u001b[0m\u001b[0;34m\u001b[0m\u001b[0m\n",
      "\u001b[0;32m~/opt/anaconda3/lib/python3.7/site-packages/sklearn/neighbors/_base.py\u001b[0m in \u001b[0;36mkneighbors\u001b[0;34m(self, X, n_neighbors, return_distance)\u001b[0m\n\u001b[1;32m    581\u001b[0m \u001b[0;34m\u001b[0m\u001b[0m\n\u001b[1;32m    582\u001b[0m         \"\"\"\n\u001b[0;32m--> 583\u001b[0;31m         \u001b[0mcheck_is_fitted\u001b[0m\u001b[0;34m(\u001b[0m\u001b[0mself\u001b[0m\u001b[0;34m)\u001b[0m\u001b[0;34m\u001b[0m\u001b[0;34m\u001b[0m\u001b[0m\n\u001b[0m\u001b[1;32m    584\u001b[0m \u001b[0;34m\u001b[0m\u001b[0m\n\u001b[1;32m    585\u001b[0m         \u001b[0;32mif\u001b[0m \u001b[0mn_neighbors\u001b[0m \u001b[0;32mis\u001b[0m \u001b[0;32mNone\u001b[0m\u001b[0;34m:\u001b[0m\u001b[0;34m\u001b[0m\u001b[0;34m\u001b[0m\u001b[0m\n",
      "\u001b[0;32m~/opt/anaconda3/lib/python3.7/site-packages/sklearn/utils/validation.py\u001b[0m in \u001b[0;36mcheck_is_fitted\u001b[0;34m(estimator, attributes, msg, all_or_any)\u001b[0m\n\u001b[1;32m    965\u001b[0m \u001b[0;34m\u001b[0m\u001b[0m\n\u001b[1;32m    966\u001b[0m     \u001b[0;32mif\u001b[0m \u001b[0;32mnot\u001b[0m \u001b[0mattrs\u001b[0m\u001b[0;34m:\u001b[0m\u001b[0;34m\u001b[0m\u001b[0;34m\u001b[0m\u001b[0m\n\u001b[0;32m--> 967\u001b[0;31m         \u001b[0;32mraise\u001b[0m \u001b[0mNotFittedError\u001b[0m\u001b[0;34m(\u001b[0m\u001b[0mmsg\u001b[0m \u001b[0;34m%\u001b[0m \u001b[0;34m{\u001b[0m\u001b[0;34m'name'\u001b[0m\u001b[0;34m:\u001b[0m \u001b[0mtype\u001b[0m\u001b[0;34m(\u001b[0m\u001b[0mestimator\u001b[0m\u001b[0;34m)\u001b[0m\u001b[0;34m.\u001b[0m\u001b[0m__name__\u001b[0m\u001b[0;34m}\u001b[0m\u001b[0;34m)\u001b[0m\u001b[0;34m\u001b[0m\u001b[0;34m\u001b[0m\u001b[0m\n\u001b[0m\u001b[1;32m    968\u001b[0m \u001b[0;34m\u001b[0m\u001b[0m\n\u001b[1;32m    969\u001b[0m \u001b[0;34m\u001b[0m\u001b[0m\n",
      "\u001b[0;31mNotFittedError\u001b[0m: This KNeighborsClassifier instance is not fitted yet. Call 'fit' with appropriate arguments before using this estimator."
     ]
    }
   ],
   "source": [
    "print('knn: {}'.format(knn_best.score(X_test, y_test)))\n",
    "print('neural net: {}'.format(nn_best.score(X_test, y_test)))\n",
    "print('naive bayes: {}'.format(nb_best.score(X_test, y_test)))"
   ]
  },
  {
   "cell_type": "code",
   "execution_count": null,
   "metadata": {},
   "outputs": [],
   "source": [
    "from sklearn.ensemble import VotingClassifier\n",
    "\n",
    "#create a dictionary of our models\n",
    "estimators=[('knn', knn_best), ('nn', nn_best), ('nb', nb_best)]\n",
    "\n",
    "#create our voting classifier, inputting our models\n",
    "ensemble = VotingClassifier(estimators, voting='hard')"
   ]
  },
  {
   "cell_type": "code",
   "execution_count": null,
   "metadata": {},
   "outputs": [],
   "source": [
    "#fit model to training data\n",
    "ensemble.fit(X_train, y_train)\n",
    "#test our model on the test data\n",
    "ensemble.score(X_test, y_test)"
   ]
  },
  {
   "cell_type": "code",
   "execution_count": null,
   "metadata": {},
   "outputs": [],
   "source": [
    "pred = ensemble.predict(X_test)"
   ]
  },
  {
   "cell_type": "code",
   "execution_count": null,
   "metadata": {},
   "outputs": [],
   "source": [
    "print(\"******* ENSAMBLE *******\\n\")\n",
    "print(\"Matriz de confusión: \")\n",
    "print(confusion_matrix(y_test, pred))\n",
    "print(\"\\nReporte de clasificación: \")\n",
    "print(classification_report(y_test, pred))\n",
    "print(\"\\nPuntaje de precisión: \")\n",
    "print(accuracy_score(y_test, pred))"
   ]
  }
 ],
 "metadata": {
  "kernelspec": {
   "display_name": "Python 3",
   "language": "python",
   "name": "python3"
  },
  "language_info": {
   "codemirror_mode": {
    "name": "ipython",
    "version": 3
   },
   "file_extension": ".py",
   "mimetype": "text/x-python",
   "name": "python",
   "nbconvert_exporter": "python",
   "pygments_lexer": "ipython3",
   "version": "3.7.6"
  },
  "widgets": {
   "application/vnd.jupyter.widget-state+json": {
    "state": {},
    "version_major": 2,
    "version_minor": 0
   }
  }
 },
 "nbformat": 4,
 "nbformat_minor": 4
}
