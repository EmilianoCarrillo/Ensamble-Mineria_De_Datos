{
 "cells": [
  {
   "cell_type": "markdown",
   "metadata": {},
   "source": [
    "# Ensamble\n",
    "Autor: **Emiliano Carrillo Moncayo**  \n",
    "Materia: **Minería de Datos**  \n"
   ]
  },
  {
   "cell_type": "markdown",
   "metadata": {},
   "source": [
    "## 1. Preprocesar archivo de texto"
   ]
  },
  {
   "cell_type": "code",
   "execution_count": 2,
   "metadata": {},
   "outputs": [],
   "source": [
    "import numpy as np\n",
    "import pandas as pd\n",
    "import matplotlib.pyplot as plt\n",
    "from sklearn.decomposition import PCA\n",
    "from sklearn.preprocessing import StandardScaler\n",
    "import ipywidgets as widgets\n",
    "%matplotlib inline\n",
    "\n",
    "nombre_archivo = \"data2\""
   ]
  },
  {
   "cell_type": "code",
   "execution_count": 3,
   "metadata": {},
   "outputs": [],
   "source": [
    "try:\n",
    "    with open( nombre_archivo + \".txt\", \"r\") as archivo:\n",
    "        nElem = int(archivo.readline())\n",
    "        nAtrib = int(archivo.readline())\n",
    "        nClases = int(archivo.readline())\n",
    "        \n",
    "        atributos = []\n",
    "        for i in range(0, nAtrib):\n",
    "            atributos.append(\"atrib_\" + str(i+1))\n",
    "        \n",
    "        atributos.append(\"clase\")\n",
    "        data = pd.read_csv(archivo, delimiter=',', header=None)\n",
    "        data.columns = atributos\n",
    "    \n",
    "except FileNotFoundError:\n",
    "    print( \"ERROR: El archivo \" + nombre_archivo + \" no fue encontrado\");\n",
    "finally:\n",
    "    archivo.close();\n",
    "\n",
    "dataset = data;"
   ]
  },
  {
   "cell_type": "code",
   "execution_count": 4,
   "metadata": {},
   "outputs": [],
   "source": [
    "x_fin = dataset.drop('clase', 1)\n",
    "y_fin = dataset['clase']\n",
    "nComponentes = \"Sin Componentes\""
   ]
  },
  {
   "cell_type": "code",
   "execution_count": 29,
   "metadata": {
    "scrolled": true
   },
   "outputs": [
    {
     "data": {
      "text/html": [
       "<div>\n",
       "<style scoped>\n",
       "    .dataframe tbody tr th:only-of-type {\n",
       "        vertical-align: middle;\n",
       "    }\n",
       "\n",
       "    .dataframe tbody tr th {\n",
       "        vertical-align: top;\n",
       "    }\n",
       "\n",
       "    .dataframe thead th {\n",
       "        text-align: right;\n",
       "    }\n",
       "</style>\n",
       "<table border=\"1\" class=\"dataframe\">\n",
       "  <thead>\n",
       "    <tr style=\"text-align: right;\">\n",
       "      <th></th>\n",
       "      <th>atrib_1</th>\n",
       "      <th>atrib_2</th>\n",
       "      <th>atrib_3</th>\n",
       "      <th>atrib_4</th>\n",
       "      <th>atrib_5</th>\n",
       "      <th>atrib_6</th>\n",
       "      <th>atrib_7</th>\n",
       "      <th>atrib_8</th>\n",
       "      <th>atrib_9</th>\n",
       "      <th>atrib_10</th>\n",
       "      <th>...</th>\n",
       "      <th>atrib_377</th>\n",
       "      <th>atrib_378</th>\n",
       "      <th>atrib_379</th>\n",
       "      <th>atrib_380</th>\n",
       "      <th>atrib_381</th>\n",
       "      <th>atrib_382</th>\n",
       "      <th>atrib_383</th>\n",
       "      <th>atrib_384</th>\n",
       "      <th>atrib_385</th>\n",
       "      <th>clase</th>\n",
       "    </tr>\n",
       "  </thead>\n",
       "  <tbody>\n",
       "    <tr>\n",
       "      <th>0</th>\n",
       "      <td>0.0</td>\n",
       "      <td>0.0</td>\n",
       "      <td>0.0</td>\n",
       "      <td>0.0</td>\n",
       "      <td>0.0</td>\n",
       "      <td>0.0</td>\n",
       "      <td>-0.25</td>\n",
       "      <td>-0.25</td>\n",
       "      <td>-0.25</td>\n",
       "      <td>-0.25</td>\n",
       "      <td>...</td>\n",
       "      <td>0.980381</td>\n",
       "      <td>0.0</td>\n",
       "      <td>0.0</td>\n",
       "      <td>0.0</td>\n",
       "      <td>0.0</td>\n",
       "      <td>0.0</td>\n",
       "      <td>-0.25</td>\n",
       "      <td>-0.25</td>\n",
       "      <td>21.803851</td>\n",
       "      <td>0</td>\n",
       "    </tr>\n",
       "    <tr>\n",
       "      <th>1</th>\n",
       "      <td>0.0</td>\n",
       "      <td>0.0</td>\n",
       "      <td>0.0</td>\n",
       "      <td>0.0</td>\n",
       "      <td>0.0</td>\n",
       "      <td>0.0</td>\n",
       "      <td>-0.25</td>\n",
       "      <td>-0.25</td>\n",
       "      <td>-0.25</td>\n",
       "      <td>-0.25</td>\n",
       "      <td>...</td>\n",
       "      <td>0.977008</td>\n",
       "      <td>0.0</td>\n",
       "      <td>0.0</td>\n",
       "      <td>0.0</td>\n",
       "      <td>0.0</td>\n",
       "      <td>0.0</td>\n",
       "      <td>-0.25</td>\n",
       "      <td>-0.25</td>\n",
       "      <td>21.745726</td>\n",
       "      <td>0</td>\n",
       "    </tr>\n",
       "    <tr>\n",
       "      <th>2</th>\n",
       "      <td>0.0</td>\n",
       "      <td>0.0</td>\n",
       "      <td>0.0</td>\n",
       "      <td>0.0</td>\n",
       "      <td>0.0</td>\n",
       "      <td>0.0</td>\n",
       "      <td>-0.25</td>\n",
       "      <td>-0.25</td>\n",
       "      <td>-0.25</td>\n",
       "      <td>-0.25</td>\n",
       "      <td>...</td>\n",
       "      <td>0.977008</td>\n",
       "      <td>0.0</td>\n",
       "      <td>0.0</td>\n",
       "      <td>0.0</td>\n",
       "      <td>0.0</td>\n",
       "      <td>0.0</td>\n",
       "      <td>-0.25</td>\n",
       "      <td>-0.25</td>\n",
       "      <td>21.687600</td>\n",
       "      <td>0</td>\n",
       "    </tr>\n",
       "    <tr>\n",
       "      <th>3</th>\n",
       "      <td>0.0</td>\n",
       "      <td>0.0</td>\n",
       "      <td>0.0</td>\n",
       "      <td>0.0</td>\n",
       "      <td>0.0</td>\n",
       "      <td>0.0</td>\n",
       "      <td>-0.25</td>\n",
       "      <td>-0.25</td>\n",
       "      <td>-0.25</td>\n",
       "      <td>-0.25</td>\n",
       "      <td>...</td>\n",
       "      <td>0.977008</td>\n",
       "      <td>0.0</td>\n",
       "      <td>0.0</td>\n",
       "      <td>0.0</td>\n",
       "      <td>0.0</td>\n",
       "      <td>0.0</td>\n",
       "      <td>-0.25</td>\n",
       "      <td>-0.25</td>\n",
       "      <td>21.629474</td>\n",
       "      <td>0</td>\n",
       "    </tr>\n",
       "    <tr>\n",
       "      <th>4</th>\n",
       "      <td>0.0</td>\n",
       "      <td>0.0</td>\n",
       "      <td>0.0</td>\n",
       "      <td>0.0</td>\n",
       "      <td>0.0</td>\n",
       "      <td>0.0</td>\n",
       "      <td>-0.25</td>\n",
       "      <td>-0.25</td>\n",
       "      <td>-0.25</td>\n",
       "      <td>-0.25</td>\n",
       "      <td>...</td>\n",
       "      <td>0.976833</td>\n",
       "      <td>0.0</td>\n",
       "      <td>0.0</td>\n",
       "      <td>0.0</td>\n",
       "      <td>0.0</td>\n",
       "      <td>0.0</td>\n",
       "      <td>-0.25</td>\n",
       "      <td>-0.25</td>\n",
       "      <td>21.571348</td>\n",
       "      <td>0</td>\n",
       "    </tr>\n",
       "  </tbody>\n",
       "</table>\n",
       "<p>5 rows × 386 columns</p>\n",
       "</div>"
      ],
      "text/plain": [
       "   atrib_1  atrib_2  atrib_3  atrib_4  atrib_5  atrib_6  atrib_7  atrib_8  \\\n",
       "0      0.0      0.0      0.0      0.0      0.0      0.0    -0.25    -0.25   \n",
       "1      0.0      0.0      0.0      0.0      0.0      0.0    -0.25    -0.25   \n",
       "2      0.0      0.0      0.0      0.0      0.0      0.0    -0.25    -0.25   \n",
       "3      0.0      0.0      0.0      0.0      0.0      0.0    -0.25    -0.25   \n",
       "4      0.0      0.0      0.0      0.0      0.0      0.0    -0.25    -0.25   \n",
       "\n",
       "   atrib_9  atrib_10  ...  atrib_377  atrib_378  atrib_379  atrib_380  \\\n",
       "0    -0.25     -0.25  ...   0.980381        0.0        0.0        0.0   \n",
       "1    -0.25     -0.25  ...   0.977008        0.0        0.0        0.0   \n",
       "2    -0.25     -0.25  ...   0.977008        0.0        0.0        0.0   \n",
       "3    -0.25     -0.25  ...   0.977008        0.0        0.0        0.0   \n",
       "4    -0.25     -0.25  ...   0.976833        0.0        0.0        0.0   \n",
       "\n",
       "   atrib_381  atrib_382  atrib_383  atrib_384  atrib_385  clase  \n",
       "0        0.0        0.0      -0.25      -0.25  21.803851      0  \n",
       "1        0.0        0.0      -0.25      -0.25  21.745726      0  \n",
       "2        0.0        0.0      -0.25      -0.25  21.687600      0  \n",
       "3        0.0        0.0      -0.25      -0.25  21.629474      0  \n",
       "4        0.0        0.0      -0.25      -0.25  21.571348      0  \n",
       "\n",
       "[5 rows x 386 columns]"
      ]
     },
     "execution_count": 29,
     "metadata": {},
     "output_type": "execute_result"
    }
   ],
   "source": [
    "dataset.head()"
   ]
  },
  {
   "cell_type": "markdown",
   "metadata": {},
   "source": [
    "## 2. Preprocesar datos (Estandarizar)"
   ]
  },
  {
   "cell_type": "code",
   "execution_count": 6,
   "metadata": {
    "scrolled": true
   },
   "outputs": [
    {
     "data": {
      "text/html": [
       "<div>\n",
       "<style scoped>\n",
       "    .dataframe tbody tr th:only-of-type {\n",
       "        vertical-align: middle;\n",
       "    }\n",
       "\n",
       "    .dataframe tbody tr th {\n",
       "        vertical-align: top;\n",
       "    }\n",
       "\n",
       "    .dataframe thead th {\n",
       "        text-align: right;\n",
       "    }\n",
       "</style>\n",
       "<table border=\"1\" class=\"dataframe\">\n",
       "  <thead>\n",
       "    <tr style=\"text-align: right;\">\n",
       "      <th></th>\n",
       "      <th>atrib_1</th>\n",
       "      <th>atrib_2</th>\n",
       "      <th>atrib_3</th>\n",
       "      <th>atrib_4</th>\n",
       "      <th>atrib_5</th>\n",
       "      <th>atrib_6</th>\n",
       "      <th>atrib_7</th>\n",
       "      <th>atrib_8</th>\n",
       "      <th>atrib_9</th>\n",
       "      <th>atrib_10</th>\n",
       "      <th>...</th>\n",
       "      <th>atrib_376</th>\n",
       "      <th>atrib_377</th>\n",
       "      <th>atrib_378</th>\n",
       "      <th>atrib_379</th>\n",
       "      <th>atrib_380</th>\n",
       "      <th>atrib_381</th>\n",
       "      <th>atrib_382</th>\n",
       "      <th>atrib_383</th>\n",
       "      <th>atrib_384</th>\n",
       "      <th>atrib_385</th>\n",
       "    </tr>\n",
       "  </thead>\n",
       "  <tbody>\n",
       "    <tr>\n",
       "      <th>0</th>\n",
       "      <td>-0.458699</td>\n",
       "      <td>-0.307113</td>\n",
       "      <td>-0.243608</td>\n",
       "      <td>-0.307003</td>\n",
       "      <td>-0.518008</td>\n",
       "      <td>-0.675602</td>\n",
       "      <td>-1.003106</td>\n",
       "      <td>-0.760053</td>\n",
       "      <td>-0.659573</td>\n",
       "      <td>-0.1849</td>\n",
       "      <td>...</td>\n",
       "      <td>-1.346831</td>\n",
       "      <td>2.398449</td>\n",
       "      <td>-0.608699</td>\n",
       "      <td>-0.69581</td>\n",
       "      <td>-0.707798</td>\n",
       "      <td>-0.499451</td>\n",
       "      <td>-0.009384</td>\n",
       "      <td>-1.20185</td>\n",
       "      <td>-0.641154</td>\n",
       "      <td>-0.332086</td>\n",
       "    </tr>\n",
       "    <tr>\n",
       "      <th>1</th>\n",
       "      <td>-0.458699</td>\n",
       "      <td>-0.307113</td>\n",
       "      <td>-0.243608</td>\n",
       "      <td>-0.307003</td>\n",
       "      <td>-0.518008</td>\n",
       "      <td>-0.675602</td>\n",
       "      <td>-1.003106</td>\n",
       "      <td>-0.760053</td>\n",
       "      <td>-0.659573</td>\n",
       "      <td>-0.1849</td>\n",
       "      <td>...</td>\n",
       "      <td>-1.346831</td>\n",
       "      <td>2.388748</td>\n",
       "      <td>-0.608699</td>\n",
       "      <td>-0.69581</td>\n",
       "      <td>-0.707798</td>\n",
       "      <td>-0.499451</td>\n",
       "      <td>-0.009384</td>\n",
       "      <td>-1.20185</td>\n",
       "      <td>-0.641154</td>\n",
       "      <td>-0.339097</td>\n",
       "    </tr>\n",
       "    <tr>\n",
       "      <th>2</th>\n",
       "      <td>-0.458699</td>\n",
       "      <td>-0.307113</td>\n",
       "      <td>-0.243608</td>\n",
       "      <td>-0.307003</td>\n",
       "      <td>-0.518008</td>\n",
       "      <td>-0.675602</td>\n",
       "      <td>-1.003106</td>\n",
       "      <td>-0.760053</td>\n",
       "      <td>-0.659573</td>\n",
       "      <td>-0.1849</td>\n",
       "      <td>...</td>\n",
       "      <td>-1.346831</td>\n",
       "      <td>2.388748</td>\n",
       "      <td>-0.608699</td>\n",
       "      <td>-0.69581</td>\n",
       "      <td>-0.707798</td>\n",
       "      <td>-0.499451</td>\n",
       "      <td>-0.009384</td>\n",
       "      <td>-1.20185</td>\n",
       "      <td>-0.641154</td>\n",
       "      <td>-0.346107</td>\n",
       "    </tr>\n",
       "    <tr>\n",
       "      <th>3</th>\n",
       "      <td>-0.458699</td>\n",
       "      <td>-0.307113</td>\n",
       "      <td>-0.243608</td>\n",
       "      <td>-0.307003</td>\n",
       "      <td>-0.518008</td>\n",
       "      <td>-0.675602</td>\n",
       "      <td>-1.003106</td>\n",
       "      <td>-0.760053</td>\n",
       "      <td>-0.659573</td>\n",
       "      <td>-0.1849</td>\n",
       "      <td>...</td>\n",
       "      <td>-1.346831</td>\n",
       "      <td>2.388748</td>\n",
       "      <td>-0.608699</td>\n",
       "      <td>-0.69581</td>\n",
       "      <td>-0.707798</td>\n",
       "      <td>-0.499451</td>\n",
       "      <td>-0.009384</td>\n",
       "      <td>-1.20185</td>\n",
       "      <td>-0.641154</td>\n",
       "      <td>-0.353118</td>\n",
       "    </tr>\n",
       "    <tr>\n",
       "      <th>4</th>\n",
       "      <td>-0.458699</td>\n",
       "      <td>-0.307113</td>\n",
       "      <td>-0.243608</td>\n",
       "      <td>-0.307003</td>\n",
       "      <td>-0.518008</td>\n",
       "      <td>-0.675602</td>\n",
       "      <td>-1.003106</td>\n",
       "      <td>-0.760053</td>\n",
       "      <td>-0.659573</td>\n",
       "      <td>-0.1849</td>\n",
       "      <td>...</td>\n",
       "      <td>-1.346831</td>\n",
       "      <td>2.388245</td>\n",
       "      <td>-0.608699</td>\n",
       "      <td>-0.69581</td>\n",
       "      <td>-0.707798</td>\n",
       "      <td>-0.499451</td>\n",
       "      <td>-0.009384</td>\n",
       "      <td>-1.20185</td>\n",
       "      <td>-0.641154</td>\n",
       "      <td>-0.360128</td>\n",
       "    </tr>\n",
       "  </tbody>\n",
       "</table>\n",
       "<p>5 rows × 385 columns</p>\n",
       "</div>"
      ],
      "text/plain": [
       "    atrib_1   atrib_2   atrib_3   atrib_4   atrib_5   atrib_6   atrib_7  \\\n",
       "0 -0.458699 -0.307113 -0.243608 -0.307003 -0.518008 -0.675602 -1.003106   \n",
       "1 -0.458699 -0.307113 -0.243608 -0.307003 -0.518008 -0.675602 -1.003106   \n",
       "2 -0.458699 -0.307113 -0.243608 -0.307003 -0.518008 -0.675602 -1.003106   \n",
       "3 -0.458699 -0.307113 -0.243608 -0.307003 -0.518008 -0.675602 -1.003106   \n",
       "4 -0.458699 -0.307113 -0.243608 -0.307003 -0.518008 -0.675602 -1.003106   \n",
       "\n",
       "    atrib_8   atrib_9  atrib_10  ...  atrib_376  atrib_377  atrib_378  \\\n",
       "0 -0.760053 -0.659573   -0.1849  ...  -1.346831   2.398449  -0.608699   \n",
       "1 -0.760053 -0.659573   -0.1849  ...  -1.346831   2.388748  -0.608699   \n",
       "2 -0.760053 -0.659573   -0.1849  ...  -1.346831   2.388748  -0.608699   \n",
       "3 -0.760053 -0.659573   -0.1849  ...  -1.346831   2.388748  -0.608699   \n",
       "4 -0.760053 -0.659573   -0.1849  ...  -1.346831   2.388245  -0.608699   \n",
       "\n",
       "   atrib_379  atrib_380  atrib_381  atrib_382  atrib_383  atrib_384  atrib_385  \n",
       "0   -0.69581  -0.707798  -0.499451  -0.009384   -1.20185  -0.641154  -0.332086  \n",
       "1   -0.69581  -0.707798  -0.499451  -0.009384   -1.20185  -0.641154  -0.339097  \n",
       "2   -0.69581  -0.707798  -0.499451  -0.009384   -1.20185  -0.641154  -0.346107  \n",
       "3   -0.69581  -0.707798  -0.499451  -0.009384   -1.20185  -0.641154  -0.353118  \n",
       "4   -0.69581  -0.707798  -0.499451  -0.009384   -1.20185  -0.641154  -0.360128  \n",
       "\n",
       "[5 rows x 385 columns]"
      ]
     },
     "execution_count": 6,
     "metadata": {},
     "output_type": "execute_result"
    }
   ],
   "source": [
    "x = dataset.drop('clase', 1)\n",
    "y = dataset['clase']\n",
    "\n",
    "x_estandarizada = StandardScaler().fit_transform(x)\n",
    "\n",
    "try:\n",
    "    atributos.remove('clase')\n",
    "except:\n",
    "    print('')\n",
    "    \n",
    "x_fin = pd.DataFrame(data = x_estandarizada, columns = atributos)\n",
    "x_fin.head()"
   ]
  },
  {
   "cell_type": "markdown",
   "metadata": {},
   "source": [
    "## 3. PCA"
   ]
  },
  {
   "cell_type": "code",
   "execution_count": 41,
   "metadata": {},
   "outputs": [
    {
     "data": {
      "application/vnd.jupyter.widget-view+json": {
       "model_id": "a342dec47eab42dc8b9784d9f19f8753",
       "version_major": 2,
       "version_minor": 0
      },
      "text/plain": [
       "BoundedIntText(value=7, description='Text:', max=10)"
      ]
     },
     "metadata": {},
     "output_type": "display_data"
    }
   ],
   "source": [
    "widgets.BoundedIntText(\n",
    "    value=7,\n",
    "    min=0,\n",
    "    max=10,\n",
    "    step=1,\n",
    "    description='numero de componentes:',\n",
    "    disabled=False\n",
    ")"
   ]
  },
  {
   "cell_type": "code",
   "execution_count": 17,
   "metadata": {},
   "outputs": [
    {
     "name": "stdout",
     "output_type": "stream",
     "text": [
      "14\n"
     ]
    }
   ],
   "source": [
    "nComponentes = int(input())\n",
    "pca = PCA(n_components=nComponentes)"
   ]
  },
  {
   "cell_type": "code",
   "execution_count": 18,
   "metadata": {},
   "outputs": [],
   "source": [
    "atributos = []\n",
    "for i in range(nComponentes):\n",
    "    atributos.append('PC'+ str(i+1))"
   ]
  },
  {
   "cell_type": "code",
   "execution_count": 19,
   "metadata": {},
   "outputs": [],
   "source": [
    "x_pca = pca.fit_transform(x_estandarizada)\n",
    "pca_dataframe = pd.DataFrame(data = x_pca, columns=atributos)"
   ]
  },
  {
   "cell_type": "code",
   "execution_count": 20,
   "metadata": {
    "scrolled": false
   },
   "outputs": [
    {
     "data": {
      "text/html": [
       "<div>\n",
       "<style scoped>\n",
       "    .dataframe tbody tr th:only-of-type {\n",
       "        vertical-align: middle;\n",
       "    }\n",
       "\n",
       "    .dataframe tbody tr th {\n",
       "        vertical-align: top;\n",
       "    }\n",
       "\n",
       "    .dataframe thead th {\n",
       "        text-align: right;\n",
       "    }\n",
       "</style>\n",
       "<table border=\"1\" class=\"dataframe\">\n",
       "  <thead>\n",
       "    <tr style=\"text-align: right;\">\n",
       "      <th></th>\n",
       "      <th>PC1</th>\n",
       "      <th>PC2</th>\n",
       "      <th>PC3</th>\n",
       "      <th>PC4</th>\n",
       "      <th>PC5</th>\n",
       "      <th>PC6</th>\n",
       "      <th>PC7</th>\n",
       "      <th>PC8</th>\n",
       "      <th>PC9</th>\n",
       "      <th>PC10</th>\n",
       "      <th>PC11</th>\n",
       "      <th>PC12</th>\n",
       "      <th>PC13</th>\n",
       "      <th>PC14</th>\n",
       "    </tr>\n",
       "  </thead>\n",
       "  <tbody>\n",
       "    <tr>\n",
       "      <th>0</th>\n",
       "      <td>10.460596</td>\n",
       "      <td>-3.339109</td>\n",
       "      <td>-4.563161</td>\n",
       "      <td>3.327759</td>\n",
       "      <td>-2.208121</td>\n",
       "      <td>6.064103</td>\n",
       "      <td>-4.216890</td>\n",
       "      <td>-2.282480</td>\n",
       "      <td>2.566458</td>\n",
       "      <td>-0.184194</td>\n",
       "      <td>2.545967</td>\n",
       "      <td>1.755358</td>\n",
       "      <td>0.048655</td>\n",
       "      <td>0.346971</td>\n",
       "    </tr>\n",
       "    <tr>\n",
       "      <th>1</th>\n",
       "      <td>10.476073</td>\n",
       "      <td>-3.105652</td>\n",
       "      <td>-4.598310</td>\n",
       "      <td>3.396971</td>\n",
       "      <td>-2.553714</td>\n",
       "      <td>6.859681</td>\n",
       "      <td>-4.514791</td>\n",
       "      <td>-2.525036</td>\n",
       "      <td>2.475475</td>\n",
       "      <td>-0.264140</td>\n",
       "      <td>2.139360</td>\n",
       "      <td>1.485149</td>\n",
       "      <td>-0.121717</td>\n",
       "      <td>0.208802</td>\n",
       "    </tr>\n",
       "    <tr>\n",
       "      <th>2</th>\n",
       "      <td>10.461930</td>\n",
       "      <td>-3.080342</td>\n",
       "      <td>-4.655892</td>\n",
       "      <td>3.387952</td>\n",
       "      <td>-2.533418</td>\n",
       "      <td>7.027484</td>\n",
       "      <td>-4.408574</td>\n",
       "      <td>-2.720884</td>\n",
       "      <td>2.408274</td>\n",
       "      <td>-0.350027</td>\n",
       "      <td>2.177446</td>\n",
       "      <td>1.629837</td>\n",
       "      <td>-0.240210</td>\n",
       "      <td>0.196330</td>\n",
       "    </tr>\n",
       "    <tr>\n",
       "      <th>3</th>\n",
       "      <td>10.266744</td>\n",
       "      <td>-3.118854</td>\n",
       "      <td>-4.481004</td>\n",
       "      <td>3.101231</td>\n",
       "      <td>-2.716013</td>\n",
       "      <td>6.562618</td>\n",
       "      <td>-3.877002</td>\n",
       "      <td>-2.767032</td>\n",
       "      <td>2.268119</td>\n",
       "      <td>-0.407711</td>\n",
       "      <td>2.667307</td>\n",
       "      <td>2.427876</td>\n",
       "      <td>-0.006268</td>\n",
       "      <td>0.029171</td>\n",
       "    </tr>\n",
       "    <tr>\n",
       "      <th>4</th>\n",
       "      <td>10.291467</td>\n",
       "      <td>-3.159250</td>\n",
       "      <td>-4.525222</td>\n",
       "      <td>3.179001</td>\n",
       "      <td>-2.780219</td>\n",
       "      <td>6.549292</td>\n",
       "      <td>-3.847466</td>\n",
       "      <td>-2.891800</td>\n",
       "      <td>2.291335</td>\n",
       "      <td>-0.392369</td>\n",
       "      <td>2.794697</td>\n",
       "      <td>2.533093</td>\n",
       "      <td>-0.130609</td>\n",
       "      <td>0.042807</td>\n",
       "    </tr>\n",
       "  </tbody>\n",
       "</table>\n",
       "</div>"
      ],
      "text/plain": [
       "         PC1       PC2       PC3       PC4       PC5       PC6       PC7  \\\n",
       "0  10.460596 -3.339109 -4.563161  3.327759 -2.208121  6.064103 -4.216890   \n",
       "1  10.476073 -3.105652 -4.598310  3.396971 -2.553714  6.859681 -4.514791   \n",
       "2  10.461930 -3.080342 -4.655892  3.387952 -2.533418  7.027484 -4.408574   \n",
       "3  10.266744 -3.118854 -4.481004  3.101231 -2.716013  6.562618 -3.877002   \n",
       "4  10.291467 -3.159250 -4.525222  3.179001 -2.780219  6.549292 -3.847466   \n",
       "\n",
       "        PC8       PC9      PC10      PC11      PC12      PC13      PC14  \n",
       "0 -2.282480  2.566458 -0.184194  2.545967  1.755358  0.048655  0.346971  \n",
       "1 -2.525036  2.475475 -0.264140  2.139360  1.485149 -0.121717  0.208802  \n",
       "2 -2.720884  2.408274 -0.350027  2.177446  1.629837 -0.240210  0.196330  \n",
       "3 -2.767032  2.268119 -0.407711  2.667307  2.427876 -0.006268  0.029171  \n",
       "4 -2.891800  2.291335 -0.392369  2.794697  2.533093 -0.130609  0.042807  "
      ]
     },
     "execution_count": 20,
     "metadata": {},
     "output_type": "execute_result"
    }
   ],
   "source": [
    "x_fin = pca_dataframe\n",
    "x_fin.head()"
   ]
  },
  {
   "cell_type": "markdown",
   "metadata": {},
   "source": [
    "## 4. K-Fold Cross Validation"
   ]
  },
  {
   "cell_type": "code",
   "execution_count": 22,
   "metadata": {},
   "outputs": [],
   "source": [
    "dataframe = pd.concat([x_fin, y_fin], axis = 1);\n",
    "\n",
    "X = dataframe.drop('clase', 1)\n",
    "y = dataframe['clase']\n"
   ]
  },
  {
   "cell_type": "code",
   "execution_count": 23,
   "metadata": {},
   "outputs": [],
   "source": [
    "from sklearn.model_selection import train_test_split\n",
    "\n",
    "X_train, X_test, y_train, y_test = train_test_split(X, y, test_size=0.2, random_state=0)"
   ]
  },
  {
   "cell_type": "markdown",
   "metadata": {},
   "source": [
    "# Avance 2\n",
    "Clasificación"
   ]
  },
  {
   "cell_type": "markdown",
   "metadata": {},
   "source": [
    "## KNN"
   ]
  },
  {
   "cell_type": "code",
   "execution_count": null,
   "metadata": {},
   "outputs": [],
   "source": [
    "from sklearn.neighbors import KNeighborsClassifier\n",
    "\n",
    "model_1 = KNeighborsClassifier(n_neighbors=5)\n",
    "model_1.fit(X_train, y_train)"
   ]
  },
  {
   "cell_type": "code",
   "execution_count": null,
   "metadata": {},
   "outputs": [],
   "source": [
    "pred_1 = model_1.predict(X_test)"
   ]
  },
  {
   "cell_type": "code",
   "execution_count": null,
   "metadata": {},
   "outputs": [],
   "source": [
    "from sklearn.metrics import classification_report, confusion_matrix, accuracy_score\n",
    "\n",
    "print(\"******* CLASIFICADOR KNN *******\\n\")\n",
    "print(\"Matriz de confusión: \")\n",
    "print(confusion_matrix(y_test, pred_1))\n",
    "print(\"\\nReporte de clasificación: \")\n",
    "print(classification_report(y_test, pred_1))\n",
    "print(\"\\nPuntaje de precisión: \")\n",
    "print(accuracy_score(y_test, pred_1))"
   ]
  },
  {
   "cell_type": "code",
   "execution_count": null,
   "metadata": {},
   "outputs": [],
   "source": [
    "error = []\n",
    "\n",
    "# Calcular error para valores K entre 1 y 40\n",
    "for i in range(1, 40):\n",
    "    knn = KNeighborsClassifier(n_neighbors=i)\n",
    "    knn.fit(X_train, y_train)\n",
    "    pred_i = knn.predict(X_test)\n",
    "    error.append(np.mean(pred_i != y_test))"
   ]
  },
  {
   "cell_type": "code",
   "execution_count": null,
   "metadata": {},
   "outputs": [],
   "source": [
    "plt.figure(figsize=(12, 6))\n",
    "plt.plot(range(1, 40), error, color='red', linestyle='dashed', marker='o',\n",
    "         markerfacecolor='blue', markersize=10)\n",
    "plt.title('Frecuencia de error por Valores K')\n",
    "plt.xlabel('K')\n",
    "plt.ylabel('Error Promedio')"
   ]
  },
  {
   "cell_type": "code",
   "execution_count": null,
   "metadata": {},
   "outputs": [],
   "source": [
    "#save best model\n",
    "knn_best = model_1;"
   ]
  },
  {
   "cell_type": "markdown",
   "metadata": {},
   "source": [
    "## Neural Network"
   ]
  },
  {
   "cell_type": "code",
   "execution_count": null,
   "metadata": {
    "scrolled": true
   },
   "outputs": [],
   "source": [
    "from sklearn.neural_network import MLPClassifier\n",
    "mlp = MLPClassifier(max_iter=300)\n",
    "\n",
    "parameter_space = {\n",
    "    'hidden_layer_sizes': [(50,50,50), (50,100,50), (100,)],\n",
    "    'activation': ['tanh', 'relu'],\n",
    "    'solver': ['sgd', 'adam'],\n",
    "    'alpha': [0.0001, 0.05],\n",
    "    'learning_rate': ['constant','adaptive'],\n",
    "}\n",
    "\n",
    "from sklearn.model_selection import GridSearchCV\n",
    "\n",
    "model_2 = GridSearchCV(mlp, parameter_space, n_jobs=-1, cv=3)\n",
    "model_2.fit(X_train, y_train)\n",
    "\n",
    "# Best paramete set\n",
    "print('Best parameters found:\\n', model_2.best_params_)\n",
    "\n",
    "# All results\n",
    "means = model_2.cv_results_['mean_test_score']\n",
    "stds = model_2.cv_results_['std_test_score']\n",
    "for mean, std, params in zip(means, stds, model_2.cv_results_['params']):\n",
    "    print(\"%0.3f (+/-%0.03f) for %r\" % (mean, std * 2, params))\n"
   ]
  },
  {
   "cell_type": "code",
   "execution_count": null,
   "metadata": {},
   "outputs": [],
   "source": [
    "y_true, pred_2 = y_test , model_2.predict(X_test)"
   ]
  },
  {
   "cell_type": "code",
   "execution_count": null,
   "metadata": {},
   "outputs": [],
   "source": [
    "print(\"******* CLASIFICADOR NEURAL NET*******\\n\")\n",
    "print(\"Matriz de confusión: \")\n",
    "print(confusion_matrix(y_test, pred_2))\n",
    "print(\"\\nReporte de clasificación: \")\n",
    "print(classification_report(y_test, pred_2))\n",
    "print(\"\\nPuntaje de precisión: \")\n",
    "print(accuracy_score(y_test, pred_2))"
   ]
  },
  {
   "cell_type": "code",
   "execution_count": null,
   "metadata": {},
   "outputs": [],
   "source": [
    "#save best model\n",
    "nn_best = model_2\n"
   ]
  },
  {
   "cell_type": "markdown",
   "metadata": {},
   "source": [
    "## Naive Bayes"
   ]
  },
  {
   "cell_type": "code",
   "execution_count": null,
   "metadata": {},
   "outputs": [],
   "source": [
    "from sklearn.naive_bayes import GaussianNB\n",
    "\n",
    "model_3 = GaussianNB().fit(X_train, y_train)\n",
    "pred_3 = model_3.predict(X_test)"
   ]
  },
  {
   "cell_type": "code",
   "execution_count": null,
   "metadata": {},
   "outputs": [],
   "source": [
    "print(\"******* CLASIFICADOR NAIVE BAYES *******\\n\")\n",
    "print(\"Matriz de confusión: \")\n",
    "print(confusion_matrix(y_test, pred_3))\n",
    "print(\"\\nReporte de clasificación: \")\n",
    "print(classification_report(y_test, pred_3))\n",
    "print(\"\\nPuntaje de precisión: \")\n",
    "print(accuracy_score(y_test, pred_3))"
   ]
  },
  {
   "cell_type": "code",
   "execution_count": null,
   "metadata": {},
   "outputs": [],
   "source": [
    "#save best model\n",
    "nb_best = model_3"
   ]
  },
  {
   "cell_type": "markdown",
   "metadata": {},
   "source": [
    "## Avance 3\n",
    "https://towardsdatascience.com/ensemble-learning-using-scikit-learn-85c4531ff86a"
   ]
  },
  {
   "cell_type": "code",
   "execution_count": null,
   "metadata": {},
   "outputs": [],
   "source": [
    "print('knn: {}'.format(knn_best.score(X_test, y_test)))\n",
    "print('neural net: {}'.format(nn_best.score(X_test, y_test)))\n",
    "print('naive bayes: {}'.format(nb_best.score(X_test, y_test)))"
   ]
  },
  {
   "cell_type": "code",
   "execution_count": null,
   "metadata": {},
   "outputs": [],
   "source": [
    "from sklearn.ensemble import VotingClassifier\n",
    "\n",
    "#create a dictionary of our models\n",
    "estimators=[('knn', knn_best), ('nn', nn_best), ('nb', nb_best)]\n",
    "\n",
    "#create our voting classifier, inputting our models\n",
    "ensemble = VotingClassifier(estimators, voting='hard')"
   ]
  },
  {
   "cell_type": "code",
   "execution_count": null,
   "metadata": {},
   "outputs": [],
   "source": [
    "#fit model to training data\n",
    "ensemble.fit(X_train, y_train)\n",
    "#test our model on the test data\n",
    "ensemble.score(X_test, y_test)"
   ]
  },
  {
   "cell_type": "code",
   "execution_count": null,
   "metadata": {},
   "outputs": [],
   "source": [
    "pred = ensemble.predict(X_test)"
   ]
  },
  {
   "cell_type": "code",
   "execution_count": null,
   "metadata": {},
   "outputs": [],
   "source": [
    "print(\"******* ENSAMBLE *******\\n\")\n",
    "print(\"Matriz de confusión: \")\n",
    "print(confusion_matrix(y_test, pred))\n",
    "print(\"\\nReporte de clasificación: \")\n",
    "print(classification_report(y_test, pred))\n",
    "print(\"\\nPuntaje de precisión: \")\n",
    "print(accuracy_score(y_test, pred))"
   ]
  }
 ],
 "metadata": {
  "kernelspec": {
   "display_name": "Python 3",
   "language": "python",
   "name": "python3"
  },
  "language_info": {
   "codemirror_mode": {
    "name": "ipython",
    "version": 3
   },
   "file_extension": ".py",
   "mimetype": "text/x-python",
   "name": "python",
   "nbconvert_exporter": "python",
   "pygments_lexer": "ipython3",
   "version": "3.7.6"
  },
  "widgets": {
   "application/vnd.jupyter.widget-state+json": {
    "state": {},
    "version_major": 2,
    "version_minor": 0
   }
  }
 },
 "nbformat": 4,
 "nbformat_minor": 4
}
